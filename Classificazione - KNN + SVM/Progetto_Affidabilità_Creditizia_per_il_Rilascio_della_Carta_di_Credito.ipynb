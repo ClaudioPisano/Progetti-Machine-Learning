{
  "nbformat": 4,
  "nbformat_minor": 0,
  "metadata": {
    "colab": {
      "provenance": []
    },
    "kernelspec": {
      "name": "python3",
      "display_name": "Python 3"
    },
    "language_info": {
      "name": "python"
    }
  },
  "cells": [
    {
      "cell_type": "code",
      "execution_count": null,
      "metadata": {
        "colab": {
          "base_uri": "https://localhost:8080/"
        },
        "id": "F4kt_h6yadLb",
        "outputId": "8e10e513-faaf-4786-d8b8-625dfb38d33b"
      },
      "outputs": [
        {
          "output_type": "stream",
          "name": "stdout",
          "text": [
            "--2024-06-13 12:57:19--  https://proai-datasets.s3.eu-west-3.amazonaws.com/credit_scoring.csv\n",
            "Resolving proai-datasets.s3.eu-west-3.amazonaws.com (proai-datasets.s3.eu-west-3.amazonaws.com)... 16.12.18.10, 52.95.154.98\n",
            "Connecting to proai-datasets.s3.eu-west-3.amazonaws.com (proai-datasets.s3.eu-west-3.amazonaws.com)|16.12.18.10|:443... connected.\n",
            "HTTP request sent, awaiting response... 200 OK\n",
            "Length: 46681024 (45M) [text/csv]\n",
            "Saving to: ‘credit_scoring.csv’\n",
            "\n",
            "credit_scoring.csv  100%[===================>]  44.52M  8.92MB/s    in 5.5s    \n",
            "\n",
            "2024-06-13 12:57:26 (8.12 MB/s) - ‘credit_scoring.csv’ saved [46681024/46681024]\n",
            "\n"
          ]
        }
      ],
      "source": [
        "!wget -O credit_scoring.csv https://proai-datasets.s3.eu-west-3.amazonaws.com/credit_scoring.csv"
      ]
    },
    {
      "cell_type": "code",
      "source": [
        "import pandas as pd\n",
        "import numpy as np\n",
        "import seaborn as sns\n",
        "from scipy.stats import chi2_contingency\n",
        "import matplotlib.pyplot as plt\n",
        "plt.rcParams[\"figure.figsize\"] = [14, 10]\n",
        "plt.style.use(\"seaborn-v0_8-darkgrid\")\n",
        "\n",
        "from sklearn.model_selection import train_test_split\n",
        "from sklearn.compose import ColumnTransformer\n",
        "from sklearn.preprocessing import OneHotEncoder\n",
        "from sklearn.preprocessing import StandardScaler\n",
        "from imblearn.over_sampling import RandomOverSampler, SMOTE\n",
        "from sklearn.linear_model import LogisticRegression\n",
        "from sklearn.metrics import classification_report, confusion_matrix\n",
        "from sklearn.neighbors import KNeighborsClassifier\n",
        "from sklearn.svm import SVC\n",
        "\n",
        "\n",
        "\n",
        "def chi2(X, y_target):\n",
        "    \"\"\"\n",
        "    Calcolo del test di indipendenza tra variabile categoriche.\n",
        "    X, y_target: rispettivamente variabile indipendente, variabile dipendente.\n",
        "    \"\"\"\n",
        "\n",
        "    data = pd.crosstab(y_target, X)\n",
        "\n",
        "    chi2, p, dof, expected = chi2_contingency(data)\n",
        "\n",
        "    print(f\"Chi2: {chi2:.2f}\")\n",
        "    print(f\"P-value: {p:.2f}\")\n",
        "    print(f\"Gradi di Libertà: {dof}\")\n",
        "\n",
        "    if p < 0.05:\n",
        "        print(\"Le variabili sono dipendenti.\")\n",
        "    else:\n",
        "        print(\"Le variabili sono indipendenti.\")\n",
        "\n",
        "\n",
        "def plot_confusion_matrix(y_true, y_pred, labels=[\"Negative\", \"Positive\"], normalize=False,  title=\"Confusion Matrix\"):\n",
        "    \"\"\"\n",
        "    Grafico che rappresenta i veri e falsi positivi e i veri e falsi negativi, punteggi del modello.\n",
        "    \"\"\"\n",
        "\n",
        "    cm = confusion_matrix(y_true, y_pred, normalize=\"true\" if normalize else None)\n",
        "\n",
        "    df_cm = pd.DataFrame(cm, index = labels, columns = [\"Predicted \"+labels[0],\"Predicted \"+labels[1]])\n",
        "\n",
        "    sns.heatmap(df_cm, annot=True, fmt=\".2f\" if normalize else \"d\")\n",
        "    plt.title(title)\n",
        "\n",
        "\n",
        "def evaluate(model, X_train, X_test, y_train, y_test):\n",
        "  \"\"\"\n",
        "  Valutazione per la bontà del modello e overfitting.\n",
        "  \"\"\"\n",
        "\n",
        "  y_pred_train = model.predict(X_train)\n",
        "  y_pred_test = model.predict(X_test)\n",
        "\n",
        "  print(\"TRAIN REPORT\")\n",
        "  print(classification_report(y_train, y_pred_train))\n",
        "  print(\"TEST REPORT\")\n",
        "  print(classification_report(y_test, y_pred_test))\n",
        "  print(\"-----------------------------------------------------\")"
      ],
      "metadata": {
        "id": "UDb8cBfybEvf"
      },
      "execution_count": null,
      "outputs": []
    },
    {
      "cell_type": "code",
      "source": [
        "dataset_original = pd.read_csv(\"credit_scoring.csv\")"
      ],
      "metadata": {
        "id": "XVdz6qLNcIZl"
      },
      "execution_count": null,
      "outputs": []
    },
    {
      "cell_type": "code",
      "source": [
        "dataset_original.head()"
      ],
      "metadata": {
        "colab": {
          "base_uri": "https://localhost:8080/",
          "height": 278
        },
        "id": "vdHgL0nMcOe3",
        "outputId": "e8fee977-89f7-4477-c6d7-0da490ee2075"
      },
      "execution_count": null,
      "outputs": [
        {
          "output_type": "execute_result",
          "data": {
            "text/plain": [
              "        ID CODE_GENDER FLAG_OWN_CAR FLAG_OWN_REALTY  CNT_CHILDREN  \\\n",
              "0  5008804           M            Y               Y             0   \n",
              "1  5008805           M            Y               Y             0   \n",
              "2  5008806           M            Y               Y             0   \n",
              "3  5008808           F            N               Y             0   \n",
              "4  5008809           F            N               Y             0   \n",
              "\n",
              "   AMT_INCOME_TOTAL      NAME_INCOME_TYPE            NAME_EDUCATION_TYPE  \\\n",
              "0          427500.0               Working               Higher education   \n",
              "1          427500.0               Working               Higher education   \n",
              "2          112500.0               Working  Secondary / secondary special   \n",
              "3          270000.0  Commercial associate  Secondary / secondary special   \n",
              "4          270000.0  Commercial associate  Secondary / secondary special   \n",
              "\n",
              "     NAME_FAMILY_STATUS  NAME_HOUSING_TYPE  DAYS_BIRTH  DAYS_EMPLOYED  \\\n",
              "0        Civil marriage   Rented apartment    -12005.0        -4542.0   \n",
              "1        Civil marriage   Rented apartment    -12005.0        -4542.0   \n",
              "2               Married  House / apartment    -21474.0        -1134.0   \n",
              "3  Single / not married  House / apartment    -19110.0        -3051.0   \n",
              "4  Single / not married  House / apartment    -19110.0        -3051.0   \n",
              "\n",
              "   FLAG_MOBIL  FLAG_WORK_PHONE  FLAG_PHONE  FLAG_EMAIL OCCUPATION_TYPE  \\\n",
              "0         1.0              1.0         0.0         0.0             NaN   \n",
              "1         1.0              1.0         0.0         0.0             NaN   \n",
              "2         1.0              0.0         0.0         0.0  Security staff   \n",
              "3         1.0              0.0         1.0         1.0     Sales staff   \n",
              "4         1.0              0.0         1.0         1.0     Sales staff   \n",
              "\n",
              "   CNT_FAM_MEMBERS  TARGET  \n",
              "0              2.0       0  \n",
              "1              2.0       0  \n",
              "2              2.0       0  \n",
              "3              1.0       1  \n",
              "4              1.0       1  "
            ],
            "text/html": [
              "\n",
              "  <div id=\"df-d72a6a61-25bb-4651-8fd3-94e206674901\" class=\"colab-df-container\">\n",
              "    <div>\n",
              "<style scoped>\n",
              "    .dataframe tbody tr th:only-of-type {\n",
              "        vertical-align: middle;\n",
              "    }\n",
              "\n",
              "    .dataframe tbody tr th {\n",
              "        vertical-align: top;\n",
              "    }\n",
              "\n",
              "    .dataframe thead th {\n",
              "        text-align: right;\n",
              "    }\n",
              "</style>\n",
              "<table border=\"1\" class=\"dataframe\">\n",
              "  <thead>\n",
              "    <tr style=\"text-align: right;\">\n",
              "      <th></th>\n",
              "      <th>ID</th>\n",
              "      <th>CODE_GENDER</th>\n",
              "      <th>FLAG_OWN_CAR</th>\n",
              "      <th>FLAG_OWN_REALTY</th>\n",
              "      <th>CNT_CHILDREN</th>\n",
              "      <th>AMT_INCOME_TOTAL</th>\n",
              "      <th>NAME_INCOME_TYPE</th>\n",
              "      <th>NAME_EDUCATION_TYPE</th>\n",
              "      <th>NAME_FAMILY_STATUS</th>\n",
              "      <th>NAME_HOUSING_TYPE</th>\n",
              "      <th>DAYS_BIRTH</th>\n",
              "      <th>DAYS_EMPLOYED</th>\n",
              "      <th>FLAG_MOBIL</th>\n",
              "      <th>FLAG_WORK_PHONE</th>\n",
              "      <th>FLAG_PHONE</th>\n",
              "      <th>FLAG_EMAIL</th>\n",
              "      <th>OCCUPATION_TYPE</th>\n",
              "      <th>CNT_FAM_MEMBERS</th>\n",
              "      <th>TARGET</th>\n",
              "    </tr>\n",
              "  </thead>\n",
              "  <tbody>\n",
              "    <tr>\n",
              "      <th>0</th>\n",
              "      <td>5008804</td>\n",
              "      <td>M</td>\n",
              "      <td>Y</td>\n",
              "      <td>Y</td>\n",
              "      <td>0</td>\n",
              "      <td>427500.0</td>\n",
              "      <td>Working</td>\n",
              "      <td>Higher education</td>\n",
              "      <td>Civil marriage</td>\n",
              "      <td>Rented apartment</td>\n",
              "      <td>-12005.0</td>\n",
              "      <td>-4542.0</td>\n",
              "      <td>1.0</td>\n",
              "      <td>1.0</td>\n",
              "      <td>0.0</td>\n",
              "      <td>0.0</td>\n",
              "      <td>NaN</td>\n",
              "      <td>2.0</td>\n",
              "      <td>0</td>\n",
              "    </tr>\n",
              "    <tr>\n",
              "      <th>1</th>\n",
              "      <td>5008805</td>\n",
              "      <td>M</td>\n",
              "      <td>Y</td>\n",
              "      <td>Y</td>\n",
              "      <td>0</td>\n",
              "      <td>427500.0</td>\n",
              "      <td>Working</td>\n",
              "      <td>Higher education</td>\n",
              "      <td>Civil marriage</td>\n",
              "      <td>Rented apartment</td>\n",
              "      <td>-12005.0</td>\n",
              "      <td>-4542.0</td>\n",
              "      <td>1.0</td>\n",
              "      <td>1.0</td>\n",
              "      <td>0.0</td>\n",
              "      <td>0.0</td>\n",
              "      <td>NaN</td>\n",
              "      <td>2.0</td>\n",
              "      <td>0</td>\n",
              "    </tr>\n",
              "    <tr>\n",
              "      <th>2</th>\n",
              "      <td>5008806</td>\n",
              "      <td>M</td>\n",
              "      <td>Y</td>\n",
              "      <td>Y</td>\n",
              "      <td>0</td>\n",
              "      <td>112500.0</td>\n",
              "      <td>Working</td>\n",
              "      <td>Secondary / secondary special</td>\n",
              "      <td>Married</td>\n",
              "      <td>House / apartment</td>\n",
              "      <td>-21474.0</td>\n",
              "      <td>-1134.0</td>\n",
              "      <td>1.0</td>\n",
              "      <td>0.0</td>\n",
              "      <td>0.0</td>\n",
              "      <td>0.0</td>\n",
              "      <td>Security staff</td>\n",
              "      <td>2.0</td>\n",
              "      <td>0</td>\n",
              "    </tr>\n",
              "    <tr>\n",
              "      <th>3</th>\n",
              "      <td>5008808</td>\n",
              "      <td>F</td>\n",
              "      <td>N</td>\n",
              "      <td>Y</td>\n",
              "      <td>0</td>\n",
              "      <td>270000.0</td>\n",
              "      <td>Commercial associate</td>\n",
              "      <td>Secondary / secondary special</td>\n",
              "      <td>Single / not married</td>\n",
              "      <td>House / apartment</td>\n",
              "      <td>-19110.0</td>\n",
              "      <td>-3051.0</td>\n",
              "      <td>1.0</td>\n",
              "      <td>0.0</td>\n",
              "      <td>1.0</td>\n",
              "      <td>1.0</td>\n",
              "      <td>Sales staff</td>\n",
              "      <td>1.0</td>\n",
              "      <td>1</td>\n",
              "    </tr>\n",
              "    <tr>\n",
              "      <th>4</th>\n",
              "      <td>5008809</td>\n",
              "      <td>F</td>\n",
              "      <td>N</td>\n",
              "      <td>Y</td>\n",
              "      <td>0</td>\n",
              "      <td>270000.0</td>\n",
              "      <td>Commercial associate</td>\n",
              "      <td>Secondary / secondary special</td>\n",
              "      <td>Single / not married</td>\n",
              "      <td>House / apartment</td>\n",
              "      <td>-19110.0</td>\n",
              "      <td>-3051.0</td>\n",
              "      <td>1.0</td>\n",
              "      <td>0.0</td>\n",
              "      <td>1.0</td>\n",
              "      <td>1.0</td>\n",
              "      <td>Sales staff</td>\n",
              "      <td>1.0</td>\n",
              "      <td>1</td>\n",
              "    </tr>\n",
              "  </tbody>\n",
              "</table>\n",
              "</div>\n",
              "    <div class=\"colab-df-buttons\">\n",
              "\n",
              "  <div class=\"colab-df-container\">\n",
              "    <button class=\"colab-df-convert\" onclick=\"convertToInteractive('df-d72a6a61-25bb-4651-8fd3-94e206674901')\"\n",
              "            title=\"Convert this dataframe to an interactive table.\"\n",
              "            style=\"display:none;\">\n",
              "\n",
              "  <svg xmlns=\"http://www.w3.org/2000/svg\" height=\"24px\" viewBox=\"0 -960 960 960\">\n",
              "    <path d=\"M120-120v-720h720v720H120Zm60-500h600v-160H180v160Zm220 220h160v-160H400v160Zm0 220h160v-160H400v160ZM180-400h160v-160H180v160Zm440 0h160v-160H620v160ZM180-180h160v-160H180v160Zm440 0h160v-160H620v160Z\"/>\n",
              "  </svg>\n",
              "    </button>\n",
              "\n",
              "  <style>\n",
              "    .colab-df-container {\n",
              "      display:flex;\n",
              "      gap: 12px;\n",
              "    }\n",
              "\n",
              "    .colab-df-convert {\n",
              "      background-color: #E8F0FE;\n",
              "      border: none;\n",
              "      border-radius: 50%;\n",
              "      cursor: pointer;\n",
              "      display: none;\n",
              "      fill: #1967D2;\n",
              "      height: 32px;\n",
              "      padding: 0 0 0 0;\n",
              "      width: 32px;\n",
              "    }\n",
              "\n",
              "    .colab-df-convert:hover {\n",
              "      background-color: #E2EBFA;\n",
              "      box-shadow: 0px 1px 2px rgba(60, 64, 67, 0.3), 0px 1px 3px 1px rgba(60, 64, 67, 0.15);\n",
              "      fill: #174EA6;\n",
              "    }\n",
              "\n",
              "    .colab-df-buttons div {\n",
              "      margin-bottom: 4px;\n",
              "    }\n",
              "\n",
              "    [theme=dark] .colab-df-convert {\n",
              "      background-color: #3B4455;\n",
              "      fill: #D2E3FC;\n",
              "    }\n",
              "\n",
              "    [theme=dark] .colab-df-convert:hover {\n",
              "      background-color: #434B5C;\n",
              "      box-shadow: 0px 1px 3px 1px rgba(0, 0, 0, 0.15);\n",
              "      filter: drop-shadow(0px 1px 2px rgba(0, 0, 0, 0.3));\n",
              "      fill: #FFFFFF;\n",
              "    }\n",
              "  </style>\n",
              "\n",
              "    <script>\n",
              "      const buttonEl =\n",
              "        document.querySelector('#df-d72a6a61-25bb-4651-8fd3-94e206674901 button.colab-df-convert');\n",
              "      buttonEl.style.display =\n",
              "        google.colab.kernel.accessAllowed ? 'block' : 'none';\n",
              "\n",
              "      async function convertToInteractive(key) {\n",
              "        const element = document.querySelector('#df-d72a6a61-25bb-4651-8fd3-94e206674901');\n",
              "        const dataTable =\n",
              "          await google.colab.kernel.invokeFunction('convertToInteractive',\n",
              "                                                    [key], {});\n",
              "        if (!dataTable) return;\n",
              "\n",
              "        const docLinkHtml = 'Like what you see? Visit the ' +\n",
              "          '<a target=\"_blank\" href=https://colab.research.google.com/notebooks/data_table.ipynb>data table notebook</a>'\n",
              "          + ' to learn more about interactive tables.';\n",
              "        element.innerHTML = '';\n",
              "        dataTable['output_type'] = 'display_data';\n",
              "        await google.colab.output.renderOutput(dataTable, element);\n",
              "        const docLink = document.createElement('div');\n",
              "        docLink.innerHTML = docLinkHtml;\n",
              "        element.appendChild(docLink);\n",
              "      }\n",
              "    </script>\n",
              "  </div>\n",
              "\n",
              "\n",
              "<div id=\"df-c8505bba-78d9-4e7a-9550-34e26abb333f\">\n",
              "  <button class=\"colab-df-quickchart\" onclick=\"quickchart('df-c8505bba-78d9-4e7a-9550-34e26abb333f')\"\n",
              "            title=\"Suggest charts\"\n",
              "            style=\"display:none;\">\n",
              "\n",
              "<svg xmlns=\"http://www.w3.org/2000/svg\" height=\"24px\"viewBox=\"0 0 24 24\"\n",
              "     width=\"24px\">\n",
              "    <g>\n",
              "        <path d=\"M19 3H5c-1.1 0-2 .9-2 2v14c0 1.1.9 2 2 2h14c1.1 0 2-.9 2-2V5c0-1.1-.9-2-2-2zM9 17H7v-7h2v7zm4 0h-2V7h2v10zm4 0h-2v-4h2v4z\"/>\n",
              "    </g>\n",
              "</svg>\n",
              "  </button>\n",
              "\n",
              "<style>\n",
              "  .colab-df-quickchart {\n",
              "      --bg-color: #E8F0FE;\n",
              "      --fill-color: #1967D2;\n",
              "      --hover-bg-color: #E2EBFA;\n",
              "      --hover-fill-color: #174EA6;\n",
              "      --disabled-fill-color: #AAA;\n",
              "      --disabled-bg-color: #DDD;\n",
              "  }\n",
              "\n",
              "  [theme=dark] .colab-df-quickchart {\n",
              "      --bg-color: #3B4455;\n",
              "      --fill-color: #D2E3FC;\n",
              "      --hover-bg-color: #434B5C;\n",
              "      --hover-fill-color: #FFFFFF;\n",
              "      --disabled-bg-color: #3B4455;\n",
              "      --disabled-fill-color: #666;\n",
              "  }\n",
              "\n",
              "  .colab-df-quickchart {\n",
              "    background-color: var(--bg-color);\n",
              "    border: none;\n",
              "    border-radius: 50%;\n",
              "    cursor: pointer;\n",
              "    display: none;\n",
              "    fill: var(--fill-color);\n",
              "    height: 32px;\n",
              "    padding: 0;\n",
              "    width: 32px;\n",
              "  }\n",
              "\n",
              "  .colab-df-quickchart:hover {\n",
              "    background-color: var(--hover-bg-color);\n",
              "    box-shadow: 0 1px 2px rgba(60, 64, 67, 0.3), 0 1px 3px 1px rgba(60, 64, 67, 0.15);\n",
              "    fill: var(--button-hover-fill-color);\n",
              "  }\n",
              "\n",
              "  .colab-df-quickchart-complete:disabled,\n",
              "  .colab-df-quickchart-complete:disabled:hover {\n",
              "    background-color: var(--disabled-bg-color);\n",
              "    fill: var(--disabled-fill-color);\n",
              "    box-shadow: none;\n",
              "  }\n",
              "\n",
              "  .colab-df-spinner {\n",
              "    border: 2px solid var(--fill-color);\n",
              "    border-color: transparent;\n",
              "    border-bottom-color: var(--fill-color);\n",
              "    animation:\n",
              "      spin 1s steps(1) infinite;\n",
              "  }\n",
              "\n",
              "  @keyframes spin {\n",
              "    0% {\n",
              "      border-color: transparent;\n",
              "      border-bottom-color: var(--fill-color);\n",
              "      border-left-color: var(--fill-color);\n",
              "    }\n",
              "    20% {\n",
              "      border-color: transparent;\n",
              "      border-left-color: var(--fill-color);\n",
              "      border-top-color: var(--fill-color);\n",
              "    }\n",
              "    30% {\n",
              "      border-color: transparent;\n",
              "      border-left-color: var(--fill-color);\n",
              "      border-top-color: var(--fill-color);\n",
              "      border-right-color: var(--fill-color);\n",
              "    }\n",
              "    40% {\n",
              "      border-color: transparent;\n",
              "      border-right-color: var(--fill-color);\n",
              "      border-top-color: var(--fill-color);\n",
              "    }\n",
              "    60% {\n",
              "      border-color: transparent;\n",
              "      border-right-color: var(--fill-color);\n",
              "    }\n",
              "    80% {\n",
              "      border-color: transparent;\n",
              "      border-right-color: var(--fill-color);\n",
              "      border-bottom-color: var(--fill-color);\n",
              "    }\n",
              "    90% {\n",
              "      border-color: transparent;\n",
              "      border-bottom-color: var(--fill-color);\n",
              "    }\n",
              "  }\n",
              "</style>\n",
              "\n",
              "  <script>\n",
              "    async function quickchart(key) {\n",
              "      const quickchartButtonEl =\n",
              "        document.querySelector('#' + key + ' button');\n",
              "      quickchartButtonEl.disabled = true;  // To prevent multiple clicks.\n",
              "      quickchartButtonEl.classList.add('colab-df-spinner');\n",
              "      try {\n",
              "        const charts = await google.colab.kernel.invokeFunction(\n",
              "            'suggestCharts', [key], {});\n",
              "      } catch (error) {\n",
              "        console.error('Error during call to suggestCharts:', error);\n",
              "      }\n",
              "      quickchartButtonEl.classList.remove('colab-df-spinner');\n",
              "      quickchartButtonEl.classList.add('colab-df-quickchart-complete');\n",
              "    }\n",
              "    (() => {\n",
              "      let quickchartButtonEl =\n",
              "        document.querySelector('#df-c8505bba-78d9-4e7a-9550-34e26abb333f button');\n",
              "      quickchartButtonEl.style.display =\n",
              "        google.colab.kernel.accessAllowed ? 'block' : 'none';\n",
              "    })();\n",
              "  </script>\n",
              "</div>\n",
              "    </div>\n",
              "  </div>\n"
            ],
            "application/vnd.google.colaboratory.intrinsic+json": {
              "type": "dataframe",
              "variable_name": "dataset_original"
            }
          },
          "metadata": {},
          "execution_count": 3
        }
      ]
    },
    {
      "cell_type": "markdown",
      "source": [
        "**Panoramica dei dati.**"
      ],
      "metadata": {
        "id": "VlZg0HGfFhgF"
      }
    },
    {
      "cell_type": "code",
      "source": [
        "dataset = dataset_original.copy()\n",
        "dataset.info()"
      ],
      "metadata": {
        "colab": {
          "base_uri": "https://localhost:8080/"
        },
        "id": "j3yg9XxIcfYl",
        "outputId": "05b2d314-74e0-4bb4-cabb-e6e3f2263bea"
      },
      "execution_count": null,
      "outputs": [
        {
          "output_type": "stream",
          "name": "stdout",
          "text": [
            "<class 'pandas.core.frame.DataFrame'>\n",
            "RangeIndex: 338427 entries, 0 to 338426\n",
            "Data columns (total 19 columns):\n",
            " #   Column               Non-Null Count   Dtype  \n",
            "---  ------               --------------   -----  \n",
            " 0   ID                   338427 non-null  int64  \n",
            " 1   CODE_GENDER          338427 non-null  object \n",
            " 2   FLAG_OWN_CAR         338427 non-null  object \n",
            " 3   FLAG_OWN_REALTY      338427 non-null  object \n",
            " 4   CNT_CHILDREN         338427 non-null  int64  \n",
            " 5   AMT_INCOME_TOTAL     338427 non-null  float64\n",
            " 6   NAME_INCOME_TYPE     338427 non-null  object \n",
            " 7   NAME_EDUCATION_TYPE  338427 non-null  object \n",
            " 8   NAME_FAMILY_STATUS   338426 non-null  object \n",
            " 9   NAME_HOUSING_TYPE    338426 non-null  object \n",
            " 10  DAYS_BIRTH           338426 non-null  float64\n",
            " 11  DAYS_EMPLOYED        338426 non-null  float64\n",
            " 12  FLAG_MOBIL           338426 non-null  float64\n",
            " 13  FLAG_WORK_PHONE      338426 non-null  float64\n",
            " 14  FLAG_PHONE           338426 non-null  float64\n",
            " 15  FLAG_EMAIL           338426 non-null  float64\n",
            " 16  OCCUPATION_TYPE      235085 non-null  object \n",
            " 17  CNT_FAM_MEMBERS      338426 non-null  float64\n",
            " 18  TARGET               338427 non-null  int64  \n",
            "dtypes: float64(8), int64(3), object(8)\n",
            "memory usage: 49.1+ MB\n"
          ]
        }
      ]
    },
    {
      "cell_type": "markdown",
      "source": [
        "**Preprocessing dei dati.**"
      ],
      "metadata": {
        "id": "zS7kImtHF5PS"
      }
    },
    {
      "cell_type": "markdown",
      "source": [
        "Eliminazione della features \"ID\" perché non veicola nessuna informazione."
      ],
      "metadata": {
        "id": "-5tqCNE0FkNf"
      }
    },
    {
      "cell_type": "code",
      "source": [
        "dataset = dataset.drop([\"ID\"], axis=1)"
      ],
      "metadata": {
        "id": "d-lKosBZketk"
      },
      "execution_count": null,
      "outputs": []
    },
    {
      "cell_type": "markdown",
      "source": [
        "Trasformazione delle features categoriche utilizzando il metodo map()."
      ],
      "metadata": {
        "id": "wBlM3S-KF8xG"
      }
    },
    {
      "cell_type": "code",
      "source": [
        "dataset[\"CODE_GENDER\"].value_counts()"
      ],
      "metadata": {
        "colab": {
          "base_uri": "https://localhost:8080/"
        },
        "id": "2LgeB8pWlkyE",
        "outputId": "1b08c7a8-df80-4384-aac6-ca9dfe4159e9"
      },
      "execution_count": null,
      "outputs": [
        {
          "output_type": "execute_result",
          "data": {
            "text/plain": [
              "CODE_GENDER\n",
              "F    227916\n",
              "M    110511\n",
              "Name: count, dtype: int64"
            ]
          },
          "metadata": {},
          "execution_count": 6
        }
      ]
    },
    {
      "cell_type": "code",
      "source": [
        "gender_dict = {\"M\": 1, \"F\": 0}\n",
        "dataset[\"CODE_GENDER\"] = dataset[\"CODE_GENDER\"].map(gender_dict)\n",
        "\n",
        "dataset[\"CODE_GENDER\"].value_counts()"
      ],
      "metadata": {
        "colab": {
          "base_uri": "https://localhost:8080/"
        },
        "id": "f3CybHcblCV-",
        "outputId": "80d7064d-22a5-4f4d-d9c9-d9a16febbef7"
      },
      "execution_count": null,
      "outputs": [
        {
          "output_type": "execute_result",
          "data": {
            "text/plain": [
              "CODE_GENDER\n",
              "0    227916\n",
              "1    110511\n",
              "Name: count, dtype: int64"
            ]
          },
          "metadata": {},
          "execution_count": 7
        }
      ]
    },
    {
      "cell_type": "code",
      "source": [
        "dataset[\"FLAG_OWN_CAR\"].value_counts()"
      ],
      "metadata": {
        "colab": {
          "base_uri": "https://localhost:8080/"
        },
        "id": "oL1--323lsUI",
        "outputId": "bf06cf37-b886-433e-944e-41b7319e9519"
      },
      "execution_count": null,
      "outputs": [
        {
          "output_type": "execute_result",
          "data": {
            "text/plain": [
              "FLAG_OWN_CAR\n",
              "N    213196\n",
              "Y    125231\n",
              "Name: count, dtype: int64"
            ]
          },
          "metadata": {},
          "execution_count": 8
        }
      ]
    },
    {
      "cell_type": "code",
      "source": [
        "yes_no_dict = {\"Y\": 1, \"N\": 0}\n",
        "\n",
        "dataset[\"FLAG_OWN_CAR\"] = dataset[\"FLAG_OWN_CAR\"].map(yes_no_dict)\n",
        "\n",
        "dataset[\"FLAG_OWN_CAR\"].value_counts()"
      ],
      "metadata": {
        "colab": {
          "base_uri": "https://localhost:8080/"
        },
        "id": "tkubgGOKl8Ad",
        "outputId": "76affef4-9fe4-41fe-a810-5825cea98209"
      },
      "execution_count": null,
      "outputs": [
        {
          "output_type": "execute_result",
          "data": {
            "text/plain": [
              "FLAG_OWN_CAR\n",
              "0    213196\n",
              "1    125231\n",
              "Name: count, dtype: int64"
            ]
          },
          "metadata": {},
          "execution_count": 9
        }
      ]
    },
    {
      "cell_type": "code",
      "source": [
        "dataset[\"FLAG_OWN_REALTY\"].value_counts()"
      ],
      "metadata": {
        "colab": {
          "base_uri": "https://localhost:8080/"
        },
        "id": "B6hwDwtHmsZY",
        "outputId": "00276d26-6c42-4d21-91f3-4f3c98d2d443"
      },
      "execution_count": null,
      "outputs": [
        {
          "output_type": "execute_result",
          "data": {
            "text/plain": [
              "FLAG_OWN_REALTY\n",
              "Y    231307\n",
              "N    107120\n",
              "Name: count, dtype: int64"
            ]
          },
          "metadata": {},
          "execution_count": 10
        }
      ]
    },
    {
      "cell_type": "code",
      "source": [
        "dataset[\"FLAG_OWN_REALTY\"] = dataset[\"FLAG_OWN_REALTY\"].map(yes_no_dict)\n",
        "\n",
        "dataset[\"FLAG_OWN_REALTY\"].value_counts()"
      ],
      "metadata": {
        "colab": {
          "base_uri": "https://localhost:8080/"
        },
        "id": "7E1ql0Iom6db",
        "outputId": "322f3627-6e43-4120-db33-c0141d2c5464"
      },
      "execution_count": null,
      "outputs": [
        {
          "output_type": "execute_result",
          "data": {
            "text/plain": [
              "FLAG_OWN_REALTY\n",
              "1    231307\n",
              "0    107120\n",
              "Name: count, dtype: int64"
            ]
          },
          "metadata": {},
          "execution_count": 11
        }
      ]
    },
    {
      "cell_type": "markdown",
      "source": [
        "Trasformazione della feature \"NAME_INCOME_TYPE\" rappresentata da una variabile dicotomica con più di due categorie che successivamente verrà passata al OneHotEncoder per evitare che il modello apprenda una ordinabilità inesistente.\n",
        "\n",
        "Il valore \"Student\" non viene tenuto in considerazione e verrà eliminato perché la creazione di una fearure composta quasi totalmente da zeri (0) risulta poco informativa e può appesantire il modello inutilmente."
      ],
      "metadata": {
        "id": "y-0AmWrZpLTy"
      }
    },
    {
      "cell_type": "code",
      "source": [
        "dataset[\"NAME_INCOME_TYPE\"].value_counts()"
      ],
      "metadata": {
        "colab": {
          "base_uri": "https://localhost:8080/"
        },
        "id": "CtxIR4M7nKi-",
        "outputId": "6127f61f-cf3f-415d-ed75-fd76395bf4bd"
      },
      "execution_count": null,
      "outputs": [
        {
          "output_type": "execute_result",
          "data": {
            "text/plain": [
              "NAME_INCOME_TYPE\n",
              "Working                 174366\n",
              "Commercial associate     78090\n",
              "Pensioner                57841\n",
              "State servant            28113\n",
              "Student                     17\n",
              "Name: count, dtype: int64"
            ]
          },
          "metadata": {},
          "execution_count": 12
        }
      ]
    },
    {
      "cell_type": "code",
      "source": [
        "name_income_dict = {\"Working\": 0, \"Commercial associate\": 1, \"Pensioner\": 2, \"State servant\": 3}\n",
        "\n",
        "dataset[\"NAME_INCOME_TYPE\"] = dataset[\"NAME_INCOME_TYPE\"].map(name_income_dict)\n",
        "\n",
        "dataset[\"NAME_INCOME_TYPE\"].value_counts()"
      ],
      "metadata": {
        "colab": {
          "base_uri": "https://localhost:8080/"
        },
        "id": "zCm1fhFsngnq",
        "outputId": "8715fb70-8e18-417f-d255-ba4ff698580d"
      },
      "execution_count": null,
      "outputs": [
        {
          "output_type": "execute_result",
          "data": {
            "text/plain": [
              "NAME_INCOME_TYPE\n",
              "0.0    174366\n",
              "1.0     78090\n",
              "2.0     57841\n",
              "3.0     28113\n",
              "Name: count, dtype: int64"
            ]
          },
          "metadata": {},
          "execution_count": 13
        }
      ]
    },
    {
      "cell_type": "markdown",
      "source": [
        "Trasformazione della feature \"NAME_EDUCATION_TYPE\" rappresentata da una variabile ordinabile.\n",
        "\n",
        "La stringa \"Secondary / se\" si presume essere un erorre di battitura e quindi sarebbe dovuta essere equivalente a \"Secondary / secondary special\", in questo senso viene corretto l'errore."
      ],
      "metadata": {
        "id": "9e5WxHZDHheh"
      }
    },
    {
      "cell_type": "code",
      "source": [
        "dataset[\"NAME_EDUCATION_TYPE\"].value_counts()"
      ],
      "metadata": {
        "colab": {
          "base_uri": "https://localhost:8080/"
        },
        "id": "BcGiE7NSpI-K",
        "outputId": "405181d6-0296-4cdc-b6b2-62b59e94b265"
      },
      "execution_count": null,
      "outputs": [
        {
          "output_type": "execute_result",
          "data": {
            "text/plain": [
              "NAME_EDUCATION_TYPE\n",
              "Secondary / secondary special    232568\n",
              "Higher education                  91062\n",
              "Incomplete higher                 11387\n",
              "Lower secondary                    3177\n",
              "Academic degree                     232\n",
              "Secondary / se                        1\n",
              "Name: count, dtype: int64"
            ]
          },
          "metadata": {},
          "execution_count": 14
        }
      ]
    },
    {
      "cell_type": "code",
      "source": [
        "education_dict = {\"Lower secondary\": 0, \"Secondary / secondary special\": 1, \"Secondary / se\": 1, \"Incomplete higher\": 2, \"Higher education\": 3, \"Academic degree\": 4}\n",
        "\n",
        "dataset[\"NAME_EDUCATION_TYPE\"] = dataset[\"NAME_EDUCATION_TYPE\"].map(education_dict)\n",
        "\n",
        "dataset[\"NAME_EDUCATION_TYPE\"].value_counts()"
      ],
      "metadata": {
        "colab": {
          "base_uri": "https://localhost:8080/"
        },
        "id": "P4LBf1I2pX2p",
        "outputId": "c229da5c-f6aa-45f6-df86-7e80d59a1ebb"
      },
      "execution_count": null,
      "outputs": [
        {
          "output_type": "execute_result",
          "data": {
            "text/plain": [
              "NAME_EDUCATION_TYPE\n",
              "1    232569\n",
              "3     91062\n",
              "2     11387\n",
              "0      3177\n",
              "4       232\n",
              "Name: count, dtype: int64"
            ]
          },
          "metadata": {},
          "execution_count": 15
        }
      ]
    },
    {
      "cell_type": "markdown",
      "source": [
        "Trasformazione della feature \"NAME_FAMILY_STATUS\" rappresentata da una variabile dicotomica con più di due categorie che successivamente verrà passata al OneHotEncoder per evitare che il modello apprenda una ordinabilità inesistente.\n",
        "\n",
        "Il valore del dato stringa \"Married\" e \"Civil marriage\" vengono accorpate per ragioni di similarità al fine di evitare di dover generare troppe features con il OneHotEncoder."
      ],
      "metadata": {
        "id": "PfWMJXnQ39WV"
      }
    },
    {
      "cell_type": "code",
      "source": [
        "dataset[\"NAME_FAMILY_STATUS\"].value_counts()"
      ],
      "metadata": {
        "colab": {
          "base_uri": "https://localhost:8080/"
        },
        "id": "Ipg3rOHI1YyI",
        "outputId": "bbff07f9-c54b-4ea5-daa9-ea95951e33b2"
      },
      "execution_count": null,
      "outputs": [
        {
          "output_type": "execute_result",
          "data": {
            "text/plain": [
              "NAME_FAMILY_STATUS\n",
              "Married                 231494\n",
              "Single / not married     42509\n",
              "Civil marriage           28516\n",
              "Separated                20809\n",
              "Widow                    15098\n",
              "Name: count, dtype: int64"
            ]
          },
          "metadata": {},
          "execution_count": 16
        }
      ]
    },
    {
      "cell_type": "code",
      "source": [
        "family_dict = {\"Married\": 4, \"Civil marriage\": 4, \"Single / not married\": 5, \"Separated\": 6, \"Widow\": 7}\n",
        "\n",
        "dataset[\"NAME_FAMILY_STATUS\"] = dataset[\"NAME_FAMILY_STATUS\"].map(family_dict)\n",
        "\n",
        "dataset[\"NAME_FAMILY_STATUS\"].value_counts()"
      ],
      "metadata": {
        "colab": {
          "base_uri": "https://localhost:8080/"
        },
        "id": "nHdDVMP_2Yno",
        "outputId": "8650bee5-4068-4900-88dc-8b73877fcd63"
      },
      "execution_count": null,
      "outputs": [
        {
          "output_type": "execute_result",
          "data": {
            "text/plain": [
              "NAME_FAMILY_STATUS\n",
              "4.0    260010\n",
              "5.0     42509\n",
              "6.0     20809\n",
              "7.0     15098\n",
              "Name: count, dtype: int64"
            ]
          },
          "metadata": {},
          "execution_count": 17
        }
      ]
    },
    {
      "cell_type": "markdown",
      "source": [
        "Trasformazione della feature \"NAME_HOUSING_TYPE\" rappresentata da una variabile dicotomica con più di due categorie che verranno accorpate per ragioni di similarità fino alla rduzione di due categorie."
      ],
      "metadata": {
        "id": "eoeuf5COI5Nv"
      }
    },
    {
      "cell_type": "code",
      "source": [
        "dataset[\"NAME_HOUSING_TYPE\"].value_counts()"
      ],
      "metadata": {
        "colab": {
          "base_uri": "https://localhost:8080/"
        },
        "id": "yDMOapVg3Zyl",
        "outputId": "23850b9d-7800-4c07-9ebb-ad127cbdec88"
      },
      "execution_count": null,
      "outputs": [
        {
          "output_type": "execute_result",
          "data": {
            "text/plain": [
              "NAME_HOUSING_TYPE\n",
              "House / apartment      304410\n",
              "With parents            14625\n",
              "Municipal apartment     10819\n",
              "Rented apartment         4442\n",
              "Office apartment         2968\n",
              "Co-op apartment          1162\n",
              "Name: count, dtype: int64"
            ]
          },
          "metadata": {},
          "execution_count": 18
        }
      ]
    },
    {
      "cell_type": "code",
      "source": [
        "house_dict = {\"House / apartment\": 1, \"Municipal apartment\": 1, \"Rented apartment\": 1, \"Office apartment\": 1, \"Co-op apartment\": 1, \"With parents\": 0}\n",
        "\n",
        "dataset[\"NAME_HOUSING_TYPE\"] = dataset[\"NAME_HOUSING_TYPE\"].map(house_dict)\n",
        "\n",
        "dataset[\"NAME_HOUSING_TYPE\"].value_counts()"
      ],
      "metadata": {
        "colab": {
          "base_uri": "https://localhost:8080/"
        },
        "id": "dFkQgxDm3ZwT",
        "outputId": "8ea3bde1-9ead-4812-9d6a-fc732a833e1f"
      },
      "execution_count": null,
      "outputs": [
        {
          "output_type": "execute_result",
          "data": {
            "text/plain": [
              "NAME_HOUSING_TYPE\n",
              "1.0    323801\n",
              "0.0     14625\n",
              "Name: count, dtype: int64"
            ]
          },
          "metadata": {},
          "execution_count": 19
        }
      ]
    },
    {
      "cell_type": "markdown",
      "source": [
        "Trasformazione della feature \"OCCUPATION_TYPE\" rappresentata da una variabile dicotomica con più di due categorie che successivamente verrà passata al OneHotEncoder per evitare che il modello apprenda una ordinabilità inesistente. La grande quantità di features che si genererebbe renderbbe il modello instabile per il loro basso valore informativo essendo principalmente valorizzate con zeri (0). Si procede con la realizzazione di categorie accorpate."
      ],
      "metadata": {
        "id": "JdtOkV-NrKa3"
      }
    },
    {
      "cell_type": "code",
      "source": [
        "dataset[\"OCCUPATION_TYPE\"].value_counts()"
      ],
      "metadata": {
        "colab": {
          "base_uri": "https://localhost:8080/"
        },
        "id": "p1A8kbac3Fw2",
        "outputId": "f468cb6b-b2cb-48c7-cb45-edee16d8a9dc"
      },
      "execution_count": null,
      "outputs": [
        {
          "output_type": "execute_result",
          "data": {
            "text/plain": [
              "OCCUPATION_TYPE\n",
              "Laborers                 60146\n",
              "Core staff               33527\n",
              "Sales staff              31652\n",
              "Managers                 27384\n",
              "Drivers                  20020\n",
              "High skill tech staff    13399\n",
              "Accountants              12281\n",
              "Medicine staff           10438\n",
              "Cooking staff             6248\n",
              "Security staff            6218\n",
              "Cleaning staff            4594\n",
              "Private service staff     2787\n",
              "Low-skill Laborers        1714\n",
              "Secretaries               1577\n",
              "Waiters/barmen staff      1245\n",
              "Realty agents              852\n",
              "HR staff                   567\n",
              "IT staff                   436\n",
              "Name: count, dtype: int64"
            ]
          },
          "metadata": {},
          "execution_count": 20
        }
      ]
    },
    {
      "cell_type": "markdown",
      "source": [
        "L'eliminazione di così tante osservazioni causerebbe una perdita troppo importante di dati, quindi la mancanza di valori viene gestita attribuendoli una categoria assestante."
      ],
      "metadata": {
        "id": "uhm4BEWaJS6g"
      }
    },
    {
      "cell_type": "code",
      "source": [
        "dataset[\"OCCUPATION_TYPE\"].isna().sum()"
      ],
      "metadata": {
        "colab": {
          "base_uri": "https://localhost:8080/"
        },
        "id": "ByzPtBdXqwlJ",
        "outputId": "d1c1014f-5735-487d-e2ba-e3b123e42903"
      },
      "execution_count": null,
      "outputs": [
        {
          "output_type": "execute_result",
          "data": {
            "text/plain": [
              "103342"
            ]
          },
          "metadata": {},
          "execution_count": 21
        }
      ]
    },
    {
      "cell_type": "code",
      "source": [
        "dataset[\"OCCUPATION_TYPE\"] = dataset[\"OCCUPATION_TYPE\"].fillna(\"Other\")"
      ],
      "metadata": {
        "id": "mKmSrBq4q3tR"
      },
      "execution_count": null,
      "outputs": []
    },
    {
      "cell_type": "markdown",
      "source": [
        "Attraverso una funzione lambda si valorizzano con \"Staff\" tutti i valori che non sono nelle categorie d'intresse."
      ],
      "metadata": {
        "id": "j165fptCJpJJ"
      }
    },
    {
      "cell_type": "code",
      "source": [
        "dataset[\"OCCUPATION_TYPE\"] = dataset[\"OCCUPATION_TYPE\"].apply(lambda x: x if x in [\"Laborers\", \"Low-skill Laborers\", \"Other\"] else \"Staff\")"
      ],
      "metadata": {
        "id": "-LVMLG9s3Zon"
      },
      "execution_count": null,
      "outputs": []
    },
    {
      "cell_type": "code",
      "source": [
        "dataset[\"OCCUPATION_TYPE\"].value_counts()"
      ],
      "metadata": {
        "colab": {
          "base_uri": "https://localhost:8080/"
        },
        "id": "p7rqt1qD3Fzr",
        "outputId": "6487f3e8-c05c-4989-a067-5dbe1a97661f"
      },
      "execution_count": null,
      "outputs": [
        {
          "output_type": "execute_result",
          "data": {
            "text/plain": [
              "OCCUPATION_TYPE\n",
              "Staff                 173225\n",
              "Other                 103342\n",
              "Laborers               60146\n",
              "Low-skill Laborers      1714\n",
              "Name: count, dtype: int64"
            ]
          },
          "metadata": {},
          "execution_count": 24
        }
      ]
    },
    {
      "cell_type": "markdown",
      "source": [
        "Utilizzo del metodo map() per restituire le categorie finali da passare al OneHotEncoder."
      ],
      "metadata": {
        "id": "7Qg_AwNTKhIV"
      }
    },
    {
      "cell_type": "code",
      "source": [
        "occupation_dict = {\"Staff\": 8, \"Laborers\": 9, \"Low-skill Laborers\": 9, \"Other\": 10}\n",
        "\n",
        "dataset[\"OCCUPATION_TYPE\"] = dataset[\"OCCUPATION_TYPE\"].map(occupation_dict)\n",
        "\n",
        "dataset[\"OCCUPATION_TYPE\"].value_counts()"
      ],
      "metadata": {
        "colab": {
          "base_uri": "https://localhost:8080/"
        },
        "id": "XXybS-043Fn9",
        "outputId": "d6f57802-f563-4485-f95f-031d9ec02fff"
      },
      "execution_count": null,
      "outputs": [
        {
          "output_type": "execute_result",
          "data": {
            "text/plain": [
              "OCCUPATION_TYPE\n",
              "8     173225\n",
              "10    103342\n",
              "9      61860\n",
              "Name: count, dtype: int64"
            ]
          },
          "metadata": {},
          "execution_count": 25
        }
      ]
    },
    {
      "cell_type": "code",
      "source": [
        "dataset.isna().sum()"
      ],
      "metadata": {
        "colab": {
          "base_uri": "https://localhost:8080/"
        },
        "id": "FRI2Qv5OAdIY",
        "outputId": "9ad47e09-96fb-4df5-dfed-cd0293fb6643"
      },
      "execution_count": null,
      "outputs": [
        {
          "output_type": "execute_result",
          "data": {
            "text/plain": [
              "CODE_GENDER             0\n",
              "FLAG_OWN_CAR            0\n",
              "FLAG_OWN_REALTY         0\n",
              "CNT_CHILDREN            0\n",
              "AMT_INCOME_TOTAL        0\n",
              "NAME_INCOME_TYPE       17\n",
              "NAME_EDUCATION_TYPE     0\n",
              "NAME_FAMILY_STATUS      1\n",
              "NAME_HOUSING_TYPE       1\n",
              "DAYS_BIRTH              1\n",
              "DAYS_EMPLOYED           1\n",
              "FLAG_MOBIL              1\n",
              "FLAG_WORK_PHONE         1\n",
              "FLAG_PHONE              1\n",
              "FLAG_EMAIL              1\n",
              "OCCUPATION_TYPE         0\n",
              "CNT_FAM_MEMBERS         1\n",
              "TARGET                  0\n",
              "dtype: int64"
            ]
          },
          "metadata": {},
          "execution_count": 26
        }
      ]
    },
    {
      "cell_type": "code",
      "source": [
        "dataset = dataset.dropna()"
      ],
      "metadata": {
        "id": "fmm6fSCMA2Lt"
      },
      "execution_count": null,
      "outputs": []
    },
    {
      "cell_type": "markdown",
      "source": [
        "Eliminazione di features considerate poco informative giustificate da conoscenze di dominio."
      ],
      "metadata": {
        "id": "UKCTdeFZEm1p"
      }
    },
    {
      "cell_type": "code",
      "source": [
        "dataset = dataset.drop([\"FLAG_MOBIL\", \"FLAG_WORK_PHONE\", \"FLAG_PHONE\", \"FLAG_EMAIL\"], axis=1)"
      ],
      "metadata": {
        "id": "AsdRxIa1DQ4S"
      },
      "execution_count": null,
      "outputs": []
    },
    {
      "cell_type": "markdown",
      "source": [
        "**Features selection.**"
      ],
      "metadata": {
        "id": "BIjB45gqFKY4"
      }
    },
    {
      "cell_type": "code",
      "source": [
        "dataset.info()"
      ],
      "metadata": {
        "colab": {
          "base_uri": "https://localhost:8080/"
        },
        "id": "UVfBraMbFpte",
        "outputId": "abd42464-ea2f-416f-9a50-2c48a8726d37"
      },
      "execution_count": null,
      "outputs": [
        {
          "output_type": "stream",
          "name": "stdout",
          "text": [
            "<class 'pandas.core.frame.DataFrame'>\n",
            "Index: 338409 entries, 0 to 338425\n",
            "Data columns (total 14 columns):\n",
            " #   Column               Non-Null Count   Dtype  \n",
            "---  ------               --------------   -----  \n",
            " 0   CODE_GENDER          338409 non-null  int64  \n",
            " 1   FLAG_OWN_CAR         338409 non-null  int64  \n",
            " 2   FLAG_OWN_REALTY      338409 non-null  int64  \n",
            " 3   CNT_CHILDREN         338409 non-null  int64  \n",
            " 4   AMT_INCOME_TOTAL     338409 non-null  float64\n",
            " 5   NAME_INCOME_TYPE     338409 non-null  float64\n",
            " 6   NAME_EDUCATION_TYPE  338409 non-null  int64  \n",
            " 7   NAME_FAMILY_STATUS   338409 non-null  float64\n",
            " 8   NAME_HOUSING_TYPE    338409 non-null  float64\n",
            " 9   DAYS_BIRTH           338409 non-null  float64\n",
            " 10  DAYS_EMPLOYED        338409 non-null  float64\n",
            " 11  OCCUPATION_TYPE      338409 non-null  int64  \n",
            " 12  CNT_FAM_MEMBERS      338409 non-null  float64\n",
            " 13  TARGET               338409 non-null  int64  \n",
            "dtypes: float64(7), int64(7)\n",
            "memory usage: 38.7 MB\n"
          ]
        }
      ]
    },
    {
      "cell_type": "code",
      "source": [
        "dataset.head()"
      ],
      "metadata": {
        "colab": {
          "base_uri": "https://localhost:8080/",
          "height": 226
        },
        "id": "xEt5IOMRHlVC",
        "outputId": "4a620878-354a-4341-8463-122954ff86f9"
      },
      "execution_count": null,
      "outputs": [
        {
          "output_type": "execute_result",
          "data": {
            "text/plain": [
              "   CODE_GENDER  FLAG_OWN_CAR  FLAG_OWN_REALTY  CNT_CHILDREN  AMT_INCOME_TOTAL  \\\n",
              "0            1             1                1             0          427500.0   \n",
              "1            1             1                1             0          427500.0   \n",
              "2            1             1                1             0          112500.0   \n",
              "3            0             0                1             0          270000.0   \n",
              "4            0             0                1             0          270000.0   \n",
              "\n",
              "   NAME_INCOME_TYPE  NAME_EDUCATION_TYPE  NAME_FAMILY_STATUS  \\\n",
              "0               0.0                    3                 4.0   \n",
              "1               0.0                    3                 4.0   \n",
              "2               0.0                    1                 4.0   \n",
              "3               1.0                    1                 5.0   \n",
              "4               1.0                    1                 5.0   \n",
              "\n",
              "   NAME_HOUSING_TYPE  DAYS_BIRTH  DAYS_EMPLOYED  OCCUPATION_TYPE  \\\n",
              "0                1.0    -12005.0        -4542.0               10   \n",
              "1                1.0    -12005.0        -4542.0               10   \n",
              "2                1.0    -21474.0        -1134.0                8   \n",
              "3                1.0    -19110.0        -3051.0                8   \n",
              "4                1.0    -19110.0        -3051.0                8   \n",
              "\n",
              "   CNT_FAM_MEMBERS  TARGET  \n",
              "0              2.0       0  \n",
              "1              2.0       0  \n",
              "2              2.0       0  \n",
              "3              1.0       1  \n",
              "4              1.0       1  "
            ],
            "text/html": [
              "\n",
              "  <div id=\"df-a505637c-dfaa-4cde-96b7-cc0799c64050\" class=\"colab-df-container\">\n",
              "    <div>\n",
              "<style scoped>\n",
              "    .dataframe tbody tr th:only-of-type {\n",
              "        vertical-align: middle;\n",
              "    }\n",
              "\n",
              "    .dataframe tbody tr th {\n",
              "        vertical-align: top;\n",
              "    }\n",
              "\n",
              "    .dataframe thead th {\n",
              "        text-align: right;\n",
              "    }\n",
              "</style>\n",
              "<table border=\"1\" class=\"dataframe\">\n",
              "  <thead>\n",
              "    <tr style=\"text-align: right;\">\n",
              "      <th></th>\n",
              "      <th>CODE_GENDER</th>\n",
              "      <th>FLAG_OWN_CAR</th>\n",
              "      <th>FLAG_OWN_REALTY</th>\n",
              "      <th>CNT_CHILDREN</th>\n",
              "      <th>AMT_INCOME_TOTAL</th>\n",
              "      <th>NAME_INCOME_TYPE</th>\n",
              "      <th>NAME_EDUCATION_TYPE</th>\n",
              "      <th>NAME_FAMILY_STATUS</th>\n",
              "      <th>NAME_HOUSING_TYPE</th>\n",
              "      <th>DAYS_BIRTH</th>\n",
              "      <th>DAYS_EMPLOYED</th>\n",
              "      <th>OCCUPATION_TYPE</th>\n",
              "      <th>CNT_FAM_MEMBERS</th>\n",
              "      <th>TARGET</th>\n",
              "    </tr>\n",
              "  </thead>\n",
              "  <tbody>\n",
              "    <tr>\n",
              "      <th>0</th>\n",
              "      <td>1</td>\n",
              "      <td>1</td>\n",
              "      <td>1</td>\n",
              "      <td>0</td>\n",
              "      <td>427500.0</td>\n",
              "      <td>0.0</td>\n",
              "      <td>3</td>\n",
              "      <td>4.0</td>\n",
              "      <td>1.0</td>\n",
              "      <td>-12005.0</td>\n",
              "      <td>-4542.0</td>\n",
              "      <td>10</td>\n",
              "      <td>2.0</td>\n",
              "      <td>0</td>\n",
              "    </tr>\n",
              "    <tr>\n",
              "      <th>1</th>\n",
              "      <td>1</td>\n",
              "      <td>1</td>\n",
              "      <td>1</td>\n",
              "      <td>0</td>\n",
              "      <td>427500.0</td>\n",
              "      <td>0.0</td>\n",
              "      <td>3</td>\n",
              "      <td>4.0</td>\n",
              "      <td>1.0</td>\n",
              "      <td>-12005.0</td>\n",
              "      <td>-4542.0</td>\n",
              "      <td>10</td>\n",
              "      <td>2.0</td>\n",
              "      <td>0</td>\n",
              "    </tr>\n",
              "    <tr>\n",
              "      <th>2</th>\n",
              "      <td>1</td>\n",
              "      <td>1</td>\n",
              "      <td>1</td>\n",
              "      <td>0</td>\n",
              "      <td>112500.0</td>\n",
              "      <td>0.0</td>\n",
              "      <td>1</td>\n",
              "      <td>4.0</td>\n",
              "      <td>1.0</td>\n",
              "      <td>-21474.0</td>\n",
              "      <td>-1134.0</td>\n",
              "      <td>8</td>\n",
              "      <td>2.0</td>\n",
              "      <td>0</td>\n",
              "    </tr>\n",
              "    <tr>\n",
              "      <th>3</th>\n",
              "      <td>0</td>\n",
              "      <td>0</td>\n",
              "      <td>1</td>\n",
              "      <td>0</td>\n",
              "      <td>270000.0</td>\n",
              "      <td>1.0</td>\n",
              "      <td>1</td>\n",
              "      <td>5.0</td>\n",
              "      <td>1.0</td>\n",
              "      <td>-19110.0</td>\n",
              "      <td>-3051.0</td>\n",
              "      <td>8</td>\n",
              "      <td>1.0</td>\n",
              "      <td>1</td>\n",
              "    </tr>\n",
              "    <tr>\n",
              "      <th>4</th>\n",
              "      <td>0</td>\n",
              "      <td>0</td>\n",
              "      <td>1</td>\n",
              "      <td>0</td>\n",
              "      <td>270000.0</td>\n",
              "      <td>1.0</td>\n",
              "      <td>1</td>\n",
              "      <td>5.0</td>\n",
              "      <td>1.0</td>\n",
              "      <td>-19110.0</td>\n",
              "      <td>-3051.0</td>\n",
              "      <td>8</td>\n",
              "      <td>1.0</td>\n",
              "      <td>1</td>\n",
              "    </tr>\n",
              "  </tbody>\n",
              "</table>\n",
              "</div>\n",
              "    <div class=\"colab-df-buttons\">\n",
              "\n",
              "  <div class=\"colab-df-container\">\n",
              "    <button class=\"colab-df-convert\" onclick=\"convertToInteractive('df-a505637c-dfaa-4cde-96b7-cc0799c64050')\"\n",
              "            title=\"Convert this dataframe to an interactive table.\"\n",
              "            style=\"display:none;\">\n",
              "\n",
              "  <svg xmlns=\"http://www.w3.org/2000/svg\" height=\"24px\" viewBox=\"0 -960 960 960\">\n",
              "    <path d=\"M120-120v-720h720v720H120Zm60-500h600v-160H180v160Zm220 220h160v-160H400v160Zm0 220h160v-160H400v160ZM180-400h160v-160H180v160Zm440 0h160v-160H620v160ZM180-180h160v-160H180v160Zm440 0h160v-160H620v160Z\"/>\n",
              "  </svg>\n",
              "    </button>\n",
              "\n",
              "  <style>\n",
              "    .colab-df-container {\n",
              "      display:flex;\n",
              "      gap: 12px;\n",
              "    }\n",
              "\n",
              "    .colab-df-convert {\n",
              "      background-color: #E8F0FE;\n",
              "      border: none;\n",
              "      border-radius: 50%;\n",
              "      cursor: pointer;\n",
              "      display: none;\n",
              "      fill: #1967D2;\n",
              "      height: 32px;\n",
              "      padding: 0 0 0 0;\n",
              "      width: 32px;\n",
              "    }\n",
              "\n",
              "    .colab-df-convert:hover {\n",
              "      background-color: #E2EBFA;\n",
              "      box-shadow: 0px 1px 2px rgba(60, 64, 67, 0.3), 0px 1px 3px 1px rgba(60, 64, 67, 0.15);\n",
              "      fill: #174EA6;\n",
              "    }\n",
              "\n",
              "    .colab-df-buttons div {\n",
              "      margin-bottom: 4px;\n",
              "    }\n",
              "\n",
              "    [theme=dark] .colab-df-convert {\n",
              "      background-color: #3B4455;\n",
              "      fill: #D2E3FC;\n",
              "    }\n",
              "\n",
              "    [theme=dark] .colab-df-convert:hover {\n",
              "      background-color: #434B5C;\n",
              "      box-shadow: 0px 1px 3px 1px rgba(0, 0, 0, 0.15);\n",
              "      filter: drop-shadow(0px 1px 2px rgba(0, 0, 0, 0.3));\n",
              "      fill: #FFFFFF;\n",
              "    }\n",
              "  </style>\n",
              "\n",
              "    <script>\n",
              "      const buttonEl =\n",
              "        document.querySelector('#df-a505637c-dfaa-4cde-96b7-cc0799c64050 button.colab-df-convert');\n",
              "      buttonEl.style.display =\n",
              "        google.colab.kernel.accessAllowed ? 'block' : 'none';\n",
              "\n",
              "      async function convertToInteractive(key) {\n",
              "        const element = document.querySelector('#df-a505637c-dfaa-4cde-96b7-cc0799c64050');\n",
              "        const dataTable =\n",
              "          await google.colab.kernel.invokeFunction('convertToInteractive',\n",
              "                                                    [key], {});\n",
              "        if (!dataTable) return;\n",
              "\n",
              "        const docLinkHtml = 'Like what you see? Visit the ' +\n",
              "          '<a target=\"_blank\" href=https://colab.research.google.com/notebooks/data_table.ipynb>data table notebook</a>'\n",
              "          + ' to learn more about interactive tables.';\n",
              "        element.innerHTML = '';\n",
              "        dataTable['output_type'] = 'display_data';\n",
              "        await google.colab.output.renderOutput(dataTable, element);\n",
              "        const docLink = document.createElement('div');\n",
              "        docLink.innerHTML = docLinkHtml;\n",
              "        element.appendChild(docLink);\n",
              "      }\n",
              "    </script>\n",
              "  </div>\n",
              "\n",
              "\n",
              "<div id=\"df-dee7217b-c44a-4bff-a985-25813e5caf46\">\n",
              "  <button class=\"colab-df-quickchart\" onclick=\"quickchart('df-dee7217b-c44a-4bff-a985-25813e5caf46')\"\n",
              "            title=\"Suggest charts\"\n",
              "            style=\"display:none;\">\n",
              "\n",
              "<svg xmlns=\"http://www.w3.org/2000/svg\" height=\"24px\"viewBox=\"0 0 24 24\"\n",
              "     width=\"24px\">\n",
              "    <g>\n",
              "        <path d=\"M19 3H5c-1.1 0-2 .9-2 2v14c0 1.1.9 2 2 2h14c1.1 0 2-.9 2-2V5c0-1.1-.9-2-2-2zM9 17H7v-7h2v7zm4 0h-2V7h2v10zm4 0h-2v-4h2v4z\"/>\n",
              "    </g>\n",
              "</svg>\n",
              "  </button>\n",
              "\n",
              "<style>\n",
              "  .colab-df-quickchart {\n",
              "      --bg-color: #E8F0FE;\n",
              "      --fill-color: #1967D2;\n",
              "      --hover-bg-color: #E2EBFA;\n",
              "      --hover-fill-color: #174EA6;\n",
              "      --disabled-fill-color: #AAA;\n",
              "      --disabled-bg-color: #DDD;\n",
              "  }\n",
              "\n",
              "  [theme=dark] .colab-df-quickchart {\n",
              "      --bg-color: #3B4455;\n",
              "      --fill-color: #D2E3FC;\n",
              "      --hover-bg-color: #434B5C;\n",
              "      --hover-fill-color: #FFFFFF;\n",
              "      --disabled-bg-color: #3B4455;\n",
              "      --disabled-fill-color: #666;\n",
              "  }\n",
              "\n",
              "  .colab-df-quickchart {\n",
              "    background-color: var(--bg-color);\n",
              "    border: none;\n",
              "    border-radius: 50%;\n",
              "    cursor: pointer;\n",
              "    display: none;\n",
              "    fill: var(--fill-color);\n",
              "    height: 32px;\n",
              "    padding: 0;\n",
              "    width: 32px;\n",
              "  }\n",
              "\n",
              "  .colab-df-quickchart:hover {\n",
              "    background-color: var(--hover-bg-color);\n",
              "    box-shadow: 0 1px 2px rgba(60, 64, 67, 0.3), 0 1px 3px 1px rgba(60, 64, 67, 0.15);\n",
              "    fill: var(--button-hover-fill-color);\n",
              "  }\n",
              "\n",
              "  .colab-df-quickchart-complete:disabled,\n",
              "  .colab-df-quickchart-complete:disabled:hover {\n",
              "    background-color: var(--disabled-bg-color);\n",
              "    fill: var(--disabled-fill-color);\n",
              "    box-shadow: none;\n",
              "  }\n",
              "\n",
              "  .colab-df-spinner {\n",
              "    border: 2px solid var(--fill-color);\n",
              "    border-color: transparent;\n",
              "    border-bottom-color: var(--fill-color);\n",
              "    animation:\n",
              "      spin 1s steps(1) infinite;\n",
              "  }\n",
              "\n",
              "  @keyframes spin {\n",
              "    0% {\n",
              "      border-color: transparent;\n",
              "      border-bottom-color: var(--fill-color);\n",
              "      border-left-color: var(--fill-color);\n",
              "    }\n",
              "    20% {\n",
              "      border-color: transparent;\n",
              "      border-left-color: var(--fill-color);\n",
              "      border-top-color: var(--fill-color);\n",
              "    }\n",
              "    30% {\n",
              "      border-color: transparent;\n",
              "      border-left-color: var(--fill-color);\n",
              "      border-top-color: var(--fill-color);\n",
              "      border-right-color: var(--fill-color);\n",
              "    }\n",
              "    40% {\n",
              "      border-color: transparent;\n",
              "      border-right-color: var(--fill-color);\n",
              "      border-top-color: var(--fill-color);\n",
              "    }\n",
              "    60% {\n",
              "      border-color: transparent;\n",
              "      border-right-color: var(--fill-color);\n",
              "    }\n",
              "    80% {\n",
              "      border-color: transparent;\n",
              "      border-right-color: var(--fill-color);\n",
              "      border-bottom-color: var(--fill-color);\n",
              "    }\n",
              "    90% {\n",
              "      border-color: transparent;\n",
              "      border-bottom-color: var(--fill-color);\n",
              "    }\n",
              "  }\n",
              "</style>\n",
              "\n",
              "  <script>\n",
              "    async function quickchart(key) {\n",
              "      const quickchartButtonEl =\n",
              "        document.querySelector('#' + key + ' button');\n",
              "      quickchartButtonEl.disabled = true;  // To prevent multiple clicks.\n",
              "      quickchartButtonEl.classList.add('colab-df-spinner');\n",
              "      try {\n",
              "        const charts = await google.colab.kernel.invokeFunction(\n",
              "            'suggestCharts', [key], {});\n",
              "      } catch (error) {\n",
              "        console.error('Error during call to suggestCharts:', error);\n",
              "      }\n",
              "      quickchartButtonEl.classList.remove('colab-df-spinner');\n",
              "      quickchartButtonEl.classList.add('colab-df-quickchart-complete');\n",
              "    }\n",
              "    (() => {\n",
              "      let quickchartButtonEl =\n",
              "        document.querySelector('#df-dee7217b-c44a-4bff-a985-25813e5caf46 button');\n",
              "      quickchartButtonEl.style.display =\n",
              "        google.colab.kernel.accessAllowed ? 'block' : 'none';\n",
              "    })();\n",
              "  </script>\n",
              "</div>\n",
              "    </div>\n",
              "  </div>\n"
            ],
            "application/vnd.google.colaboratory.intrinsic+json": {
              "type": "dataframe",
              "variable_name": "dataset"
            }
          },
          "metadata": {},
          "execution_count": 30
        }
      ]
    },
    {
      "cell_type": "markdown",
      "source": [
        "**Analisi univariata.**\n",
        "\n",
        "La variabile \"AMT_INCOME_TOTAL\" è composta da molti outlier che comprometterebero la stabilità di molti modelli, mentre SVM non dovrebbe dare problemi."
      ],
      "metadata": {
        "id": "qUaw_t5yNQmn"
      }
    },
    {
      "cell_type": "code",
      "source": [
        "sns.boxplot(x=dataset[\"TARGET\"], y=dataset[\"AMT_INCOME_TOTAL\"], data=dataset);"
      ],
      "metadata": {
        "colab": {
          "base_uri": "https://localhost:8080/",
          "height": 860
        },
        "id": "8bBREcljJ4Cw",
        "outputId": "835eaf54-cd17-4571-9894-6c108a2af6be"
      },
      "execution_count": null,
      "outputs": [
        {
          "output_type": "display_data",
          "data": {
            "text/plain": [
              "<Figure size 1400x1000 with 1 Axes>"
            ],
            "image/png": "[encoded data removed]"
          },
          "metadata": {}
        }
      ]
    },
    {
      "cell_type": "markdown",
      "source": [
        "La variabile \"DAYS_BIRTH\" considerata in questo contesto come una variabile continua, è molto informativa."
      ],
      "metadata": {
        "id": "RjZOP4ZwLNWa"
      }
    },
    {
      "cell_type": "code",
      "source": [
        "sns.boxplot(x=dataset[\"TARGET\"], y=dataset[\"DAYS_BIRTH\"], data=dataset);"
      ],
      "metadata": {
        "colab": {
          "base_uri": "https://localhost:8080/",
          "height": 845
        },
        "id": "phQCur3sElGu",
        "outputId": "8c2a4a17-2f9d-4f99-9543-b1ed8ebd1e2c"
      },
      "execution_count": null,
      "outputs": [
        {
          "output_type": "display_data",
          "data": {
            "text/plain": [
              "<Figure size 1400x1000 with 1 Axes>"
            ],
            "image/png": "[encoded data removed]"
          },
          "metadata": {}
        }
      ]
    },
    {
      "cell_type": "markdown",
      "source": [
        "Utilizzo del test statistico Chi X per verificare l'indipendenza tra variabili."
      ],
      "metadata": {
        "id": "P5grDCYHMOnQ"
      }
    },
    {
      "cell_type": "code",
      "source": [
        "X = dataset[\"CODE_GENDER\"]\n",
        "y = dataset[\"TARGET\"]\n",
        "\n",
        "chi2(X, y)"
      ],
      "metadata": {
        "colab": {
          "base_uri": "https://localhost:8080/"
        },
        "id": "n3hIAXgfMT0T",
        "outputId": "a334669d-3a36-4359-b961-ea6ce18a7a4a"
      },
      "execution_count": null,
      "outputs": [
        {
          "output_type": "stream",
          "name": "stdout",
          "text": [
            "Chi2: 75.07\n",
            "P-value: 0.00\n",
            "Gradi di Libertà: 1\n",
            "Le variabili sono dipendenti.\n"
          ]
        }
      ]
    },
    {
      "cell_type": "code",
      "source": [
        "X = dataset[\"FLAG_OWN_CAR\"]\n",
        "\n",
        "chi2(X, y)"
      ],
      "metadata": {
        "colab": {
          "base_uri": "https://localhost:8080/"
        },
        "id": "p2zRyrzDL7l0",
        "outputId": "464b0d09-ea57-406e-f901-19f6ce88abe1"
      },
      "execution_count": null,
      "outputs": [
        {
          "output_type": "stream",
          "name": "stdout",
          "text": [
            "Chi2: 401.52\n",
            "P-value: 0.00\n",
            "Gradi di Libertà: 1\n",
            "Le variabili sono dipendenti.\n"
          ]
        }
      ]
    },
    {
      "cell_type": "code",
      "source": [
        "X = dataset[\"FLAG_OWN_REALTY\"]\n",
        "\n",
        "chi2(X, y)"
      ],
      "metadata": {
        "colab": {
          "base_uri": "https://localhost:8080/"
        },
        "id": "rQCOpsJpMKFN",
        "outputId": "adcde4d1-0543-4d48-dd1c-c90685896d9d"
      },
      "execution_count": null,
      "outputs": [
        {
          "output_type": "stream",
          "name": "stdout",
          "text": [
            "Chi2: 306.31\n",
            "P-value: 0.00\n",
            "Gradi di Libertà: 1\n",
            "Le variabili sono dipendenti.\n"
          ]
        }
      ]
    },
    {
      "cell_type": "code",
      "source": [
        "X = dataset[\"CNT_CHILDREN\"]\n",
        "\n",
        "chi2(X, y)"
      ],
      "metadata": {
        "colab": {
          "base_uri": "https://localhost:8080/"
        },
        "id": "3uLDLlWPMgaE",
        "outputId": "be137197-b558-4d28-820f-3bd8f549e97c"
      },
      "execution_count": null,
      "outputs": [
        {
          "output_type": "stream",
          "name": "stdout",
          "text": [
            "Chi2: 3170.74\n",
            "P-value: 0.00\n",
            "Gradi di Libertà: 11\n",
            "Le variabili sono dipendenti.\n"
          ]
        }
      ]
    },
    {
      "cell_type": "code",
      "source": [
        "X = dataset[\"NAME_INCOME_TYPE\"]\n",
        "\n",
        "chi2(X, y)"
      ],
      "metadata": {
        "colab": {
          "base_uri": "https://localhost:8080/"
        },
        "id": "q68Sggx6Mmuv",
        "outputId": "6e5178b8-79f5-4d98-8dd9-c4092c2b8f5b"
      },
      "execution_count": null,
      "outputs": [
        {
          "output_type": "stream",
          "name": "stdout",
          "text": [
            "Chi2: 7456.89\n",
            "P-value: 0.00\n",
            "Gradi di Libertà: 3\n",
            "Le variabili sono dipendenti.\n"
          ]
        }
      ]
    },
    {
      "cell_type": "code",
      "source": [
        "X = dataset[\"NAME_EDUCATION_TYPE\"]\n",
        "\n",
        "chi2(X, y)"
      ],
      "metadata": {
        "colab": {
          "base_uri": "https://localhost:8080/"
        },
        "id": "cisGzsi6Mq2a",
        "outputId": "815eb2da-e0af-4a8f-f505-14aa7a3b9e9c"
      },
      "execution_count": null,
      "outputs": [
        {
          "output_type": "stream",
          "name": "stdout",
          "text": [
            "Chi2: 566.15\n",
            "P-value: 0.00\n",
            "Gradi di Libertà: 4\n",
            "Le variabili sono dipendenti.\n"
          ]
        }
      ]
    },
    {
      "cell_type": "code",
      "source": [
        "X = dataset[\"NAME_FAMILY_STATUS\"]\n",
        "\n",
        "chi2(X, y)"
      ],
      "metadata": {
        "colab": {
          "base_uri": "https://localhost:8080/"
        },
        "id": "TerdoxBXM9gP",
        "outputId": "b94e69ce-3e28-484b-b8d3-bef7b68ac4d6"
      },
      "execution_count": null,
      "outputs": [
        {
          "output_type": "stream",
          "name": "stdout",
          "text": [
            "Chi2: 444.75\n",
            "P-value: 0.00\n",
            "Gradi di Libertà: 3\n",
            "Le variabili sono dipendenti.\n"
          ]
        }
      ]
    },
    {
      "cell_type": "code",
      "source": [
        "X = dataset[\"NAME_HOUSING_TYPE\"]\n",
        "\n",
        "chi2(X, y)"
      ],
      "metadata": {
        "colab": {
          "base_uri": "https://localhost:8080/"
        },
        "id": "S5koZ8t2NBRc",
        "outputId": "bdc0ed0e-3c11-477a-9921-eba7b26c1616"
      },
      "execution_count": null,
      "outputs": [
        {
          "output_type": "stream",
          "name": "stdout",
          "text": [
            "Chi2: 831.95\n",
            "P-value: 0.00\n",
            "Gradi di Libertà: 1\n",
            "Le variabili sono dipendenti.\n"
          ]
        }
      ]
    },
    {
      "cell_type": "code",
      "source": [
        "X = dataset[\"OCCUPATION_TYPE\"]\n",
        "\n",
        "chi2(X, y)"
      ],
      "metadata": {
        "colab": {
          "base_uri": "https://localhost:8080/"
        },
        "id": "lAWi8BT8NERU",
        "outputId": "508eff8b-938e-4583-cf76-4b3a00443a9f"
      },
      "execution_count": null,
      "outputs": [
        {
          "output_type": "stream",
          "name": "stdout",
          "text": [
            "Chi2: 3670.90\n",
            "P-value: 0.00\n",
            "Gradi di Libertà: 2\n",
            "Le variabili sono dipendenti.\n"
          ]
        }
      ]
    },
    {
      "cell_type": "code",
      "source": [
        "X = dataset[\"CNT_FAM_MEMBERS\"]\n",
        "\n",
        "chi2(X, y)"
      ],
      "metadata": {
        "colab": {
          "base_uri": "https://localhost:8080/"
        },
        "id": "ODEUpGgkNH-i",
        "outputId": "37447b73-b296-4c3c-f8f3-87b5c20bf702"
      },
      "execution_count": null,
      "outputs": [
        {
          "output_type": "stream",
          "name": "stdout",
          "text": [
            "Chi2: 2886.57\n",
            "P-value: 0.00\n",
            "Gradi di Libertà: 12\n",
            "Le variabili sono dipendenti.\n"
          ]
        }
      ]
    },
    {
      "cell_type": "markdown",
      "source": [
        "**Analisi multivariata.**"
      ],
      "metadata": {
        "id": "WvzNMMhkNS8r"
      }
    },
    {
      "cell_type": "markdown",
      "source": [
        "Utilizzo del coefficiente di correlazione di Spearman, valido per variabili ordinabili e variabili a intervalli."
      ],
      "metadata": {
        "id": "g-P9xoTpMhiW"
      }
    },
    {
      "cell_type": "code",
      "source": [
        "corr_spearman = dataset.corr(method=\"spearman\")\n",
        "sns.heatmap(corr_spearman, annot=True, linewidths=.5)"
      ],
      "metadata": {
        "colab": {
          "base_uri": "https://localhost:8080/",
          "height": 1000
        },
        "id": "J70JL9m5NL0a",
        "outputId": "12ad3e14-7994-416c-f73a-686e338dc5b7"
      },
      "execution_count": null,
      "outputs": [
        {
          "output_type": "execute_result",
          "data": {
            "text/plain": [
              "<Axes: >"
            ]
          },
          "metadata": {},
          "execution_count": 43
        },
        {
          "output_type": "display_data",
          "data": {
            "text/plain": [
              "<Figure size 1400x1000 with 2 Axes>"
            ],
            "image/png": "[encoded data removed]"
          },
          "metadata": {}
        }
      ]
    },
    {
      "cell_type": "code",
      "source": [
        "dataset[[\"CNT_FAM_MEMBERS\", \"CNT_CHILDREN\"]].corr(method=\"spearman\")"
      ],
      "metadata": {
        "colab": {
          "base_uri": "https://localhost:8080/",
          "height": 112
        },
        "collapsed": true,
        "id": "iJ2pa0u8tIvF",
        "outputId": "0b215542-5e4b-42c3-fcfb-4d57d3cde11f"
      },
      "execution_count": null,
      "outputs": [
        {
          "output_type": "execute_result",
          "data": {
            "text/plain": [
              "                 CNT_FAM_MEMBERS  CNT_CHILDREN\n",
              "CNT_FAM_MEMBERS         1.000000      0.827607\n",
              "CNT_CHILDREN            0.827607      1.000000"
            ],
            "text/html": [
              "\n",
              "  <div id=\"df-b1eb5843-4282-4418-8a21-96e9b54e7f13\" class=\"colab-df-container\">\n",
              "    <div>\n",
              "<style scoped>\n",
              "    .dataframe tbody tr th:only-of-type {\n",
              "        vertical-align: middle;\n",
              "    }\n",
              "\n",
              "    .dataframe tbody tr th {\n",
              "        vertical-align: top;\n",
              "    }\n",
              "\n",
              "    .dataframe thead th {\n",
              "        text-align: right;\n",
              "    }\n",
              "</style>\n",
              "<table border=\"1\" class=\"dataframe\">\n",
              "  <thead>\n",
              "    <tr style=\"text-align: right;\">\n",
              "      <th></th>\n",
              "      <th>CNT_FAM_MEMBERS</th>\n",
              "      <th>CNT_CHILDREN</th>\n",
              "    </tr>\n",
              "  </thead>\n",
              "  <tbody>\n",
              "    <tr>\n",
              "      <th>CNT_FAM_MEMBERS</th>\n",
              "      <td>1.000000</td>\n",
              "      <td>0.827607</td>\n",
              "    </tr>\n",
              "    <tr>\n",
              "      <th>CNT_CHILDREN</th>\n",
              "      <td>0.827607</td>\n",
              "      <td>1.000000</td>\n",
              "    </tr>\n",
              "  </tbody>\n",
              "</table>\n",
              "</div>\n",
              "    <div class=\"colab-df-buttons\">\n",
              "\n",
              "  <div class=\"colab-df-container\">\n",
              "    <button class=\"colab-df-convert\" onclick=\"convertToInteractive('df-b1eb5843-4282-4418-8a21-96e9b54e7f13')\"\n",
              "            title=\"Convert this dataframe to an interactive table.\"\n",
              "            style=\"display:none;\">\n",
              "\n",
              "  <svg xmlns=\"http://www.w3.org/2000/svg\" height=\"24px\" viewBox=\"0 -960 960 960\">\n",
              "    <path d=\"M120-120v-720h720v720H120Zm60-500h600v-160H180v160Zm220 220h160v-160H400v160Zm0 220h160v-160H400v160ZM180-400h160v-160H180v160Zm440 0h160v-160H620v160ZM180-180h160v-160H180v160Zm440 0h160v-160H620v160Z\"/>\n",
              "  </svg>\n",
              "    </button>\n",
              "\n",
              "  <style>\n",
              "    .colab-df-container {\n",
              "      display:flex;\n",
              "      gap: 12px;\n",
              "    }\n",
              "\n",
              "    .colab-df-convert {\n",
              "      background-color: #E8F0FE;\n",
              "      border: none;\n",
              "      border-radius: 50%;\n",
              "      cursor: pointer;\n",
              "      display: none;\n",
              "      fill: #1967D2;\n",
              "      height: 32px;\n",
              "      padding: 0 0 0 0;\n",
              "      width: 32px;\n",
              "    }\n",
              "\n",
              "    .colab-df-convert:hover {\n",
              "      background-color: #E2EBFA;\n",
              "      box-shadow: 0px 1px 2px rgba(60, 64, 67, 0.3), 0px 1px 3px 1px rgba(60, 64, 67, 0.15);\n",
              "      fill: #174EA6;\n",
              "    }\n",
              "\n",
              "    .colab-df-buttons div {\n",
              "      margin-bottom: 4px;\n",
              "    }\n",
              "\n",
              "    [theme=dark] .colab-df-convert {\n",
              "      background-color: #3B4455;\n",
              "      fill: #D2E3FC;\n",
              "    }\n",
              "\n",
              "    [theme=dark] .colab-df-convert:hover {\n",
              "      background-color: #434B5C;\n",
              "      box-shadow: 0px 1px 3px 1px rgba(0, 0, 0, 0.15);\n",
              "      filter: drop-shadow(0px 1px 2px rgba(0, 0, 0, 0.3));\n",
              "      fill: #FFFFFF;\n",
              "    }\n",
              "  </style>\n",
              "\n",
              "    <script>\n",
              "      const buttonEl =\n",
              "        document.querySelector('#df-b1eb5843-4282-4418-8a21-96e9b54e7f13 button.colab-df-convert');\n",
              "      buttonEl.style.display =\n",
              "        google.colab.kernel.accessAllowed ? 'block' : 'none';\n",
              "\n",
              "      async function convertToInteractive(key) {\n",
              "        const element = document.querySelector('#df-b1eb5843-4282-4418-8a21-96e9b54e7f13');\n",
              "        const dataTable =\n",
              "          await google.colab.kernel.invokeFunction('convertToInteractive',\n",
              "                                                    [key], {});\n",
              "        if (!dataTable) return;\n",
              "\n",
              "        const docLinkHtml = 'Like what you see? Visit the ' +\n",
              "          '<a target=\"_blank\" href=https://colab.research.google.com/notebooks/data_table.ipynb>data table notebook</a>'\n",
              "          + ' to learn more about interactive tables.';\n",
              "        element.innerHTML = '';\n",
              "        dataTable['output_type'] = 'display_data';\n",
              "        await google.colab.output.renderOutput(dataTable, element);\n",
              "        const docLink = document.createElement('div');\n",
              "        docLink.innerHTML = docLinkHtml;\n",
              "        element.appendChild(docLink);\n",
              "      }\n",
              "    </script>\n",
              "  </div>\n",
              "\n",
              "\n",
              "<div id=\"df-e8d5bfb7-ef55-4a33-b2e1-9b7de335e952\">\n",
              "  <button class=\"colab-df-quickchart\" onclick=\"quickchart('df-e8d5bfb7-ef55-4a33-b2e1-9b7de335e952')\"\n",
              "            title=\"Suggest charts\"\n",
              "            style=\"display:none;\">\n",
              "\n",
              "<svg xmlns=\"http://www.w3.org/2000/svg\" height=\"24px\"viewBox=\"0 0 24 24\"\n",
              "     width=\"24px\">\n",
              "    <g>\n",
              "        <path d=\"M19 3H5c-1.1 0-2 .9-2 2v14c0 1.1.9 2 2 2h14c1.1 0 2-.9 2-2V5c0-1.1-.9-2-2-2zM9 17H7v-7h2v7zm4 0h-2V7h2v10zm4 0h-2v-4h2v4z\"/>\n",
              "    </g>\n",
              "</svg>\n",
              "  </button>\n",
              "\n",
              "<style>\n",
              "  .colab-df-quickchart {\n",
              "      --bg-color: #E8F0FE;\n",
              "      --fill-color: #1967D2;\n",
              "      --hover-bg-color: #E2EBFA;\n",
              "      --hover-fill-color: #174EA6;\n",
              "      --disabled-fill-color: #AAA;\n",
              "      --disabled-bg-color: #DDD;\n",
              "  }\n",
              "\n",
              "  [theme=dark] .colab-df-quickchart {\n",
              "      --bg-color: #3B4455;\n",
              "      --fill-color: #D2E3FC;\n",
              "      --hover-bg-color: #434B5C;\n",
              "      --hover-fill-color: #FFFFFF;\n",
              "      --disabled-bg-color: #3B4455;\n",
              "      --disabled-fill-color: #666;\n",
              "  }\n",
              "\n",
              "  .colab-df-quickchart {\n",
              "    background-color: var(--bg-color);\n",
              "    border: none;\n",
              "    border-radius: 50%;\n",
              "    cursor: pointer;\n",
              "    display: none;\n",
              "    fill: var(--fill-color);\n",
              "    height: 32px;\n",
              "    padding: 0;\n",
              "    width: 32px;\n",
              "  }\n",
              "\n",
              "  .colab-df-quickchart:hover {\n",
              "    background-color: var(--hover-bg-color);\n",
              "    box-shadow: 0 1px 2px rgba(60, 64, 67, 0.3), 0 1px 3px 1px rgba(60, 64, 67, 0.15);\n",
              "    fill: var(--button-hover-fill-color);\n",
              "  }\n",
              "\n",
              "  .colab-df-quickchart-complete:disabled,\n",
              "  .colab-df-quickchart-complete:disabled:hover {\n",
              "    background-color: var(--disabled-bg-color);\n",
              "    fill: var(--disabled-fill-color);\n",
              "    box-shadow: none;\n",
              "  }\n",
              "\n",
              "  .colab-df-spinner {\n",
              "    border: 2px solid var(--fill-color);\n",
              "    border-color: transparent;\n",
              "    border-bottom-color: var(--fill-color);\n",
              "    animation:\n",
              "      spin 1s steps(1) infinite;\n",
              "  }\n",
              "\n",
              "  @keyframes spin {\n",
              "    0% {\n",
              "      border-color: transparent;\n",
              "      border-bottom-color: var(--fill-color);\n",
              "      border-left-color: var(--fill-color);\n",
              "    }\n",
              "    20% {\n",
              "      border-color: transparent;\n",
              "      border-left-color: var(--fill-color);\n",
              "      border-top-color: var(--fill-color);\n",
              "    }\n",
              "    30% {\n",
              "      border-color: transparent;\n",
              "      border-left-color: var(--fill-color);\n",
              "      border-top-color: var(--fill-color);\n",
              "      border-right-color: var(--fill-color);\n",
              "    }\n",
              "    40% {\n",
              "      border-color: transparent;\n",
              "      border-right-color: var(--fill-color);\n",
              "      border-top-color: var(--fill-color);\n",
              "    }\n",
              "    60% {\n",
              "      border-color: transparent;\n",
              "      border-right-color: var(--fill-color);\n",
              "    }\n",
              "    80% {\n",
              "      border-color: transparent;\n",
              "      border-right-color: var(--fill-color);\n",
              "      border-bottom-color: var(--fill-color);\n",
              "    }\n",
              "    90% {\n",
              "      border-color: transparent;\n",
              "      border-bottom-color: var(--fill-color);\n",
              "    }\n",
              "  }\n",
              "</style>\n",
              "\n",
              "  <script>\n",
              "    async function quickchart(key) {\n",
              "      const quickchartButtonEl =\n",
              "        document.querySelector('#' + key + ' button');\n",
              "      quickchartButtonEl.disabled = true;  // To prevent multiple clicks.\n",
              "      quickchartButtonEl.classList.add('colab-df-spinner');\n",
              "      try {\n",
              "        const charts = await google.colab.kernel.invokeFunction(\n",
              "            'suggestCharts', [key], {});\n",
              "      } catch (error) {\n",
              "        console.error('Error during call to suggestCharts:', error);\n",
              "      }\n",
              "      quickchartButtonEl.classList.remove('colab-df-spinner');\n",
              "      quickchartButtonEl.classList.add('colab-df-quickchart-complete');\n",
              "    }\n",
              "    (() => {\n",
              "      let quickchartButtonEl =\n",
              "        document.querySelector('#df-e8d5bfb7-ef55-4a33-b2e1-9b7de335e952 button');\n",
              "      quickchartButtonEl.style.display =\n",
              "        google.colab.kernel.accessAllowed ? 'block' : 'none';\n",
              "    })();\n",
              "  </script>\n",
              "</div>\n",
              "    </div>\n",
              "  </div>\n"
            ],
            "application/vnd.google.colaboratory.intrinsic+json": {
              "type": "dataframe",
              "summary": "{\n  \"name\": \"dataset[[\\\"CNT_FAM_MEMBERS\\\", \\\"CNT_CHILDREN\\\"]]\",\n  \"rows\": 2,\n  \"fields\": [\n    {\n      \"column\": \"CNT_FAM_MEMBERS\",\n      \"properties\": {\n        \"dtype\": \"number\",\n        \"std\": 0.12190033415809366,\n        \"min\": 0.8276068941758117,\n        \"max\": 1.0,\n        \"num_unique_values\": 2,\n        \"samples\": [\n          0.8276068941758117,\n          1.0\n        ],\n        \"semantic_type\": \"\",\n        \"description\": \"\"\n      }\n    },\n    {\n      \"column\": \"CNT_CHILDREN\",\n      \"properties\": {\n        \"dtype\": \"number\",\n        \"std\": 0.12190033415809366,\n        \"min\": 0.8276068941758117,\n        \"max\": 1.0,\n        \"num_unique_values\": 2,\n        \"samples\": [\n          1.0,\n          0.8276068941758117\n        ],\n        \"semantic_type\": \"\",\n        \"description\": \"\"\n      }\n    }\n  ]\n}"
            }
          },
          "metadata": {},
          "execution_count": 44
        }
      ]
    },
    {
      "cell_type": "code",
      "source": [
        "dataset = dataset.drop([\"CNT_FAM_MEMBERS\"], axis=1)\n"
      ],
      "metadata": {
        "id": "neoK-tn2NuiQ"
      },
      "execution_count": null,
      "outputs": []
    },
    {
      "cell_type": "markdown",
      "source": [
        "Verifica del bilanciamento della variabile target, un pesante sbilanciamento può compromettere la stabilità del modello."
      ],
      "metadata": {
        "id": "Gso-ieb2ODZA"
      }
    },
    {
      "cell_type": "code",
      "source": [
        "counts = dataset[\"TARGET\"].value_counts()\n",
        "\n",
        "print(f\"Bassa affidabilità creditizia = {counts[0]} ({counts[0]/counts.sum()*100:.2f}%) \")\n",
        "print(f\"Elevata affidabilità creditizia = {counts[1]} ({counts[1]/counts.sum()*100:.2f}%) \")"
      ],
      "metadata": {
        "id": "jntnSQobOhkR",
        "colab": {
          "base_uri": "https://localhost:8080/"
        },
        "outputId": "b7799c32-dd95-49af-ebb2-e375b9a82468"
      },
      "execution_count": null,
      "outputs": [
        {
          "output_type": "stream",
          "name": "stdout",
          "text": [
            "Bassa affidabilità creditizia = 308690 (91.22%) \n",
            "Elevata affidabilità creditizia = 29719 (8.78%) \n"
          ]
        }
      ]
    },
    {
      "cell_type": "code",
      "source": [
        "X = dataset.drop(\"TARGET\", axis=1).values\n",
        "y = dataset[\"TARGET\"].values\n",
        "\n",
        "X_train, X_test, y_train, y_test = train_test_split(X, y, test_size=.3)\n",
        "\n",
        "print(f\"X_train: {X_train.shape}\")\n",
        "print(f\"X_test: {X_test.shape}\")"
      ],
      "metadata": {
        "colab": {
          "base_uri": "https://localhost:8080/"
        },
        "id": "jDaC-F7UuMzk",
        "outputId": "e6794b69-1397-44de-b8fb-52381dc698dc"
      },
      "execution_count": null,
      "outputs": [
        {
          "output_type": "stream",
          "name": "stdout",
          "text": [
            "X_train: (236886, 12)\n",
            "X_test: (101523, 12)\n"
          ]
        }
      ]
    },
    {
      "cell_type": "markdown",
      "source": [
        "Utilizzo del OneHotEncoder per le features precedentemente descritte."
      ],
      "metadata": {
        "id": "cDuicRWIOOlM"
      }
    },
    {
      "cell_type": "code",
      "source": [
        "c_transf = ColumnTransformer([(\"ohe\", OneHotEncoder(), [5, 7, 11])], remainder=\"passthrough\")\n",
        "X_train = c_transf.fit_transform(X_train)\n",
        "X_test = c_transf.transform(X_test)\n",
        "\n",
        "print(f\"X_train: {X_train.shape}\")\n",
        "print(f\"X_test: {X_test.shape}\")"
      ],
      "metadata": {
        "colab": {
          "base_uri": "https://localhost:8080/"
        },
        "id": "rvrWZ_xWueuc",
        "outputId": "0cb252d4-6ce7-4c65-8a13-3fe1c2ef4644"
      },
      "execution_count": null,
      "outputs": [
        {
          "output_type": "stream",
          "name": "stdout",
          "text": [
            "X_train: (236886, 20)\n",
            "X_test: (101523, 20)\n"
          ]
        }
      ]
    },
    {
      "cell_type": "code",
      "source": [
        "ss = StandardScaler()\n",
        "X_train = ss.fit_transform(X_train)\n",
        "X_test = ss.transform(X_test)"
      ],
      "metadata": {
        "id": "rreise8Ov19v"
      },
      "execution_count": null,
      "outputs": []
    },
    {
      "cell_type": "markdown",
      "source": [
        "**Addestramento del modello di classificazione.**"
      ],
      "metadata": {
        "id": "l2OsHsGdOWyu"
      }
    },
    {
      "cell_type": "markdown",
      "source": [
        "Modello baseline: regressione logistica.\n",
        "\n",
        "Il bilanciamento delle classi inizialmente viene gestito dall'iperparametro \"class_weight\"."
      ],
      "metadata": {
        "id": "mPjej7Bqt5gr"
      }
    },
    {
      "cell_type": "code",
      "source": [
        "lr = LogisticRegression(class_weight=\"balanced\")\n",
        "lr.fit(X_train, y_train)\n",
        "\n",
        "evaluate(lr, X_train, X_test, y_train, y_test)"
      ],
      "metadata": {
        "colab": {
          "base_uri": "https://localhost:8080/"
        },
        "id": "SA6yJTPWwBYX",
        "outputId": "f83a0715-4bc8-47f7-9af2-63f340e922de"
      },
      "execution_count": null,
      "outputs": [
        {
          "output_type": "stream",
          "name": "stdout",
          "text": [
            "TRAIN REPORT\n",
            "              precision    recall  f1-score   support\n",
            "\n",
            "           0       0.99      0.82      0.89    216087\n",
            "           1       0.32      0.89      0.47     20799\n",
            "\n",
            "    accuracy                           0.82    236886\n",
            "   macro avg       0.65      0.85      0.68    236886\n",
            "weighted avg       0.93      0.82      0.86    236886\n",
            "\n",
            "TEST REPORT\n",
            "              precision    recall  f1-score   support\n",
            "\n",
            "           0       0.99      0.82      0.90     92603\n",
            "           1       0.32      0.88      0.47      8920\n",
            "\n",
            "    accuracy                           0.82    101523\n",
            "   macro avg       0.65      0.85      0.68    101523\n",
            "weighted avg       0.93      0.82      0.86    101523\n",
            "\n",
            "-----------------------------------------------------\n"
          ]
        }
      ]
    },
    {
      "cell_type": "code",
      "source": [
        "plot_confusion_matrix(y_test, lr.predict(X_test), [\"No\", \"Yes\"])"
      ],
      "metadata": {
        "colab": {
          "base_uri": "https://localhost:8080/",
          "height": 846
        },
        "id": "6d2GhrwNwOEw",
        "outputId": "a61ce6cb-56a7-4b07-9a04-8d789936357f"
      },
      "execution_count": null,
      "outputs": [
        {
          "output_type": "display_data",
          "data": {
            "text/plain": [
              "<Figure size 1400x1000 with 2 Axes>"
            ],
            "image/png": "[encoded data removed]"
          },
          "metadata": {}
        }
      ]
    },
    {
      "cell_type": "markdown",
      "source": [
        "Addestramento del modello con bilanciamento ROS per la creazione di features sintetiche del target meno presente.\n",
        "\n",
        "Le metriche migliorano di 0.01 ma il modello mostra una condizione di overfitting per la classe target=1."
      ],
      "metadata": {
        "id": "XjYy1nwNwLL1"
      }
    },
    {
      "cell_type": "code",
      "source": [
        "ros = RandomOverSampler()\n",
        "X_train, y_train = ros.fit_resample(X_train, y_train)\n",
        "\n",
        "print(f\"X_train: {X_train.shape}\")\n",
        "print(f\"X_test: {X_test.shape}\")"
      ],
      "metadata": {
        "colab": {
          "base_uri": "https://localhost:8080/"
        },
        "id": "nXvULctHwqpz",
        "outputId": "97ddd13f-3134-4476-f90d-7fcb914a3f3b"
      },
      "execution_count": null,
      "outputs": [
        {
          "output_type": "stream",
          "name": "stdout",
          "text": [
            "X_train: (432174, 20)\n",
            "X_test: (101523, 20)\n"
          ]
        }
      ]
    },
    {
      "cell_type": "code",
      "source": [
        "lr = LogisticRegression(class_weight=\"balanced\")\n",
        "lr.fit(X_train, y_train)\n",
        "\n",
        "evaluate(lr, X_train, X_test, y_train, y_test)"
      ],
      "metadata": {
        "colab": {
          "base_uri": "https://localhost:8080/"
        },
        "id": "YiQlL4LwyRlr",
        "outputId": "806c965c-d35b-4cea-cbfa-0ebe4fecb500"
      },
      "execution_count": null,
      "outputs": [
        {
          "output_type": "stream",
          "name": "stdout",
          "text": [
            "TRAIN REPORT\n",
            "              precision    recall  f1-score   support\n",
            "\n",
            "           0       0.88      0.82      0.85    216087\n",
            "           1       0.83      0.88      0.86    216087\n",
            "\n",
            "    accuracy                           0.85    432174\n",
            "   macro avg       0.85      0.85      0.85    432174\n",
            "weighted avg       0.85      0.85      0.85    432174\n",
            "\n",
            "TEST REPORT\n",
            "              precision    recall  f1-score   support\n",
            "\n",
            "           0       0.99      0.82      0.90     92603\n",
            "           1       0.32      0.88      0.47      8920\n",
            "\n",
            "    accuracy                           0.82    101523\n",
            "   macro avg       0.65      0.85      0.68    101523\n",
            "weighted avg       0.93      0.82      0.86    101523\n",
            "\n",
            "-----------------------------------------------------\n"
          ]
        }
      ]
    },
    {
      "cell_type": "markdown",
      "source": [
        "Regolarizzazione per gestire l'overfitting attraverso la ricerca dell'iperparametro migliore per bilanciare tra L1 e L2.\n",
        "\n",
        "Nessun miglioramento valido per le metriche e il modello continua a mostrare una condizione di overfitting."
      ],
      "metadata": {
        "id": "M4HVgk7K11ac"
      }
    },
    {
      "cell_type": "code",
      "source": [
        "for ratio in [0.2, 0.4, 0.6, 0.8, 1]:\n",
        "  lr = LogisticRegression(penalty=\"elasticnet\", class_weight=\"balanced\", solver=\"saga\", l1_ratio=ratio)\n",
        "  lr.fit(X_train, y_train)\n",
        "\n",
        "  print(f\"-------------FIT CON RATIO: {ratio}---------------\")\n",
        "  evaluate(lr, X_train, X_test, y_train, y_test)"
      ],
      "metadata": {
        "colab": {
          "base_uri": "https://localhost:8080/"
        },
        "id": "iwwyT3WX0PHc",
        "outputId": "d24ad79b-0538-4a8b-f304-9ec04462bae8"
      },
      "execution_count": null,
      "outputs": [
        {
          "output_type": "stream",
          "name": "stderr",
          "text": [
            "/usr/local/lib/python3.10/dist-packages/sklearn/linear_model/_sag.py:350: ConvergenceWarning: The max_iter was reached which means the coef_ did not converge\n",
            "  warnings.warn(\n"
          ]
        },
        {
          "output_type": "stream",
          "name": "stdout",
          "text": [
            "-------------FIT CON RATIO: 0.2---------------\n",
            "TRAIN REPORT\n",
            "              precision    recall  f1-score   support\n",
            "\n",
            "           0       0.88      0.81      0.84    216087\n",
            "           1       0.83      0.89      0.86    216087\n",
            "\n",
            "    accuracy                           0.85    432174\n",
            "   macro avg       0.85      0.85      0.85    432174\n",
            "weighted avg       0.85      0.85      0.85    432174\n",
            "\n",
            "TEST REPORT\n",
            "              precision    recall  f1-score   support\n",
            "\n",
            "           0       0.99      0.81      0.89     92603\n",
            "           1       0.31      0.89      0.46      8920\n",
            "\n",
            "    accuracy                           0.82    101523\n",
            "   macro avg       0.65      0.85      0.68    101523\n",
            "weighted avg       0.93      0.82      0.85    101523\n",
            "\n",
            "-----------------------------------------------------\n"
          ]
        },
        {
          "output_type": "stream",
          "name": "stderr",
          "text": [
            "/usr/local/lib/python3.10/dist-packages/sklearn/linear_model/_sag.py:350: ConvergenceWarning: The max_iter was reached which means the coef_ did not converge\n",
            "  warnings.warn(\n"
          ]
        },
        {
          "output_type": "stream",
          "name": "stdout",
          "text": [
            "-------------FIT CON RATIO: 0.4---------------\n",
            "TRAIN REPORT\n",
            "              precision    recall  f1-score   support\n",
            "\n",
            "           0       0.88      0.81      0.84    216087\n",
            "           1       0.83      0.89      0.86    216087\n",
            "\n",
            "    accuracy                           0.85    432174\n",
            "   macro avg       0.85      0.85      0.85    432174\n",
            "weighted avg       0.85      0.85      0.85    432174\n",
            "\n",
            "TEST REPORT\n",
            "              precision    recall  f1-score   support\n",
            "\n",
            "           0       0.99      0.81      0.89     92603\n",
            "           1       0.31      0.89      0.46      8920\n",
            "\n",
            "    accuracy                           0.82    101523\n",
            "   macro avg       0.65      0.85      0.68    101523\n",
            "weighted avg       0.93      0.82      0.85    101523\n",
            "\n",
            "-----------------------------------------------------\n"
          ]
        },
        {
          "output_type": "stream",
          "name": "stderr",
          "text": [
            "/usr/local/lib/python3.10/dist-packages/sklearn/linear_model/_sag.py:350: ConvergenceWarning: The max_iter was reached which means the coef_ did not converge\n",
            "  warnings.warn(\n"
          ]
        },
        {
          "output_type": "stream",
          "name": "stdout",
          "text": [
            "-------------FIT CON RATIO: 0.6---------------\n",
            "TRAIN REPORT\n",
            "              precision    recall  f1-score   support\n",
            "\n",
            "           0       0.88      0.81      0.84    216087\n",
            "           1       0.83      0.89      0.86    216087\n",
            "\n",
            "    accuracy                           0.85    432174\n",
            "   macro avg       0.85      0.85      0.85    432174\n",
            "weighted avg       0.85      0.85      0.85    432174\n",
            "\n",
            "TEST REPORT\n",
            "              precision    recall  f1-score   support\n",
            "\n",
            "           0       0.99      0.81      0.89     92603\n",
            "           1       0.31      0.89      0.46      8920\n",
            "\n",
            "    accuracy                           0.82    101523\n",
            "   macro avg       0.65      0.85      0.68    101523\n",
            "weighted avg       0.93      0.82      0.85    101523\n",
            "\n",
            "-----------------------------------------------------\n"
          ]
        },
        {
          "output_type": "stream",
          "name": "stderr",
          "text": [
            "/usr/local/lib/python3.10/dist-packages/sklearn/linear_model/_sag.py:350: ConvergenceWarning: The max_iter was reached which means the coef_ did not converge\n",
            "  warnings.warn(\n"
          ]
        },
        {
          "output_type": "stream",
          "name": "stdout",
          "text": [
            "-------------FIT CON RATIO: 0.8---------------\n",
            "TRAIN REPORT\n",
            "              precision    recall  f1-score   support\n",
            "\n",
            "           0       0.88      0.81      0.84    216087\n",
            "           1       0.83      0.89      0.86    216087\n",
            "\n",
            "    accuracy                           0.85    432174\n",
            "   macro avg       0.85      0.85      0.85    432174\n",
            "weighted avg       0.85      0.85      0.85    432174\n",
            "\n",
            "TEST REPORT\n",
            "              precision    recall  f1-score   support\n",
            "\n",
            "           0       0.99      0.81      0.89     92603\n",
            "           1       0.31      0.89      0.46      8920\n",
            "\n",
            "    accuracy                           0.82    101523\n",
            "   macro avg       0.65      0.85      0.68    101523\n",
            "weighted avg       0.93      0.82      0.85    101523\n",
            "\n",
            "-----------------------------------------------------\n"
          ]
        },
        {
          "output_type": "stream",
          "name": "stderr",
          "text": [
            "/usr/local/lib/python3.10/dist-packages/sklearn/linear_model/_sag.py:350: ConvergenceWarning: The max_iter was reached which means the coef_ did not converge\n",
            "  warnings.warn(\n"
          ]
        },
        {
          "output_type": "stream",
          "name": "stdout",
          "text": [
            "-------------FIT CON RATIO: 1---------------\n",
            "TRAIN REPORT\n",
            "              precision    recall  f1-score   support\n",
            "\n",
            "           0       0.88      0.81      0.84    216087\n",
            "           1       0.83      0.89      0.86    216087\n",
            "\n",
            "    accuracy                           0.85    432174\n",
            "   macro avg       0.85      0.85      0.85    432174\n",
            "weighted avg       0.85      0.85      0.85    432174\n",
            "\n",
            "TEST REPORT\n",
            "              precision    recall  f1-score   support\n",
            "\n",
            "           0       0.99      0.81      0.89     92603\n",
            "           1       0.31      0.89      0.46      8920\n",
            "\n",
            "    accuracy                           0.82    101523\n",
            "   macro avg       0.65      0.85      0.68    101523\n",
            "weighted avg       0.93      0.82      0.85    101523\n",
            "\n",
            "-----------------------------------------------------\n"
          ]
        }
      ]
    },
    {
      "cell_type": "markdown",
      "source": [
        "Verifica parametrica per considerare l'addestramento di modelli che non fanno assunzioni sulla distribuzione dei dati.\n",
        "\n",
        "La media e la mediana (probabilmente anche la moda) non sono equivalenti."
      ],
      "metadata": {
        "id": "xMj0hv20wWjL"
      }
    },
    {
      "cell_type": "code",
      "source": [
        "dataset.median()"
      ],
      "metadata": {
        "colab": {
          "base_uri": "https://localhost:8080/"
        },
        "id": "uNNI-zSl3iJ0",
        "outputId": "9b73fd39-5830-4fde-cd4c-32fec9663cf3"
      },
      "execution_count": null,
      "outputs": [
        {
          "output_type": "execute_result",
          "data": {
            "text/plain": [
              "CODE_GENDER                 0.0\n",
              "FLAG_OWN_CAR                0.0\n",
              "FLAG_OWN_REALTY             1.0\n",
              "CNT_CHILDREN                0.0\n",
              "AMT_INCOME_TOTAL       162000.0\n",
              "NAME_INCOME_TYPE            0.0\n",
              "NAME_EDUCATION_TYPE         1.0\n",
              "NAME_FAMILY_STATUS          4.0\n",
              "NAME_HOUSING_TYPE           1.0\n",
              "DAYS_BIRTH             -15622.0\n",
              "DAYS_EMPLOYED           -1485.0\n",
              "OCCUPATION_TYPE             8.0\n",
              "TARGET                      0.0\n",
              "dtype: float64"
            ]
          },
          "metadata": {},
          "execution_count": 56
        }
      ]
    },
    {
      "cell_type": "code",
      "source": [
        "dataset.mean()"
      ],
      "metadata": {
        "colab": {
          "base_uri": "https://localhost:8080/"
        },
        "id": "mxxAMB9b4C7Y",
        "outputId": "33b24f38-46a0-4e97-84b9-ec793832bd49"
      },
      "execution_count": null,
      "outputs": [
        {
          "output_type": "execute_result",
          "data": {
            "text/plain": [
              "CODE_GENDER                 0.326543\n",
              "FLAG_OWN_CAR                0.370052\n",
              "FLAG_OWN_REALTY             0.683475\n",
              "CNT_CHILDREN                0.428942\n",
              "AMT_INCOME_TOTAL       187656.104281\n",
              "NAME_INCOME_TYPE            0.821819\n",
              "NAME_EDUCATION_TYPE         1.564424\n",
              "NAME_FAMILY_STATUS          4.382425\n",
              "NAME_HOUSING_TYPE           0.956792\n",
              "DAYS_BIRTH             -15998.321182\n",
              "DAYS_EMPLOYED           60241.647214\n",
              "OCCUPATION_TYPE             8.793504\n",
              "TARGET                      0.087820\n",
              "dtype: float64"
            ]
          },
          "metadata": {},
          "execution_count": 57
        }
      ]
    },
    {
      "cell_type": "markdown",
      "source": [
        "Verifica grafica della distribuzione dei dati.\n",
        "\n",
        "Il grafico conferma che i dati non si distribuiscono seguendo la normale."
      ],
      "metadata": {
        "id": "h3wDy8W2QGFp"
      }
    },
    {
      "cell_type": "code",
      "source": [
        "sns.histplot(X, bins=100);"
      ],
      "metadata": {
        "colab": {
          "base_uri": "https://localhost:8080/",
          "height": 844
        },
        "id": "__f6smvgE8tZ",
        "outputId": "43793894-92f7-400d-b40a-5b3e0725ff5a"
      },
      "execution_count": null,
      "outputs": [
        {
          "output_type": "display_data",
          "data": {
            "text/plain": [
              "<Figure size 1400x1000 with 1 Axes>"
            ],
            "image/png": "[encoded data removed]"
          },
          "metadata": {}
        }
      ]
    },
    {
      "cell_type": "markdown",
      "source": [
        "**Addestramento di modelli non parametrici.**"
      ],
      "metadata": {
        "id": "EO2JfSNxNsfR"
      }
    },
    {
      "cell_type": "code",
      "source": [
        "X_train, X_test, y_train, y_test = train_test_split(X, y, test_size=.3)\n",
        "\n",
        "c_transf = ColumnTransformer([(\"ohe\", OneHotEncoder(), [5, 7, 11])], remainder=\"passthrough\")\n",
        "X_train = c_transf.fit_transform(X_train)\n",
        "X_test = c_transf.transform(X_test)\n",
        "\n",
        "ss = StandardScaler()\n",
        "X_train = ss.fit_transform(X_train)\n",
        "X_test = ss.transform(X_test)"
      ],
      "metadata": {
        "id": "FC5kvdELN00q"
      },
      "execution_count": null,
      "outputs": []
    },
    {
      "cell_type": "markdown",
      "source": [
        "*K-Nearest Neighbors (KNN).*"
      ],
      "metadata": {
        "id": "AmmvtjxfTTbN"
      }
    },
    {
      "cell_type": "markdown",
      "source": [
        "Ottimizzazione dell'iperparametro per il modello di classificazione K-NN.\n",
        "\n",
        "Il modello soffrirà per la presenza di outlier, ma risulta facile da interpretare."
      ],
      "metadata": {
        "id": "6_WX6BAiQc5T"
      }
    },
    {
      "cell_type": "code",
      "source": [
        "for neighbors in range(3, 7):\n",
        "  knn = KNeighborsClassifier(n_neighbors=neighbors)\n",
        "  knn.fit(X_train, y_train)\n",
        "\n",
        "  print(f\"-----------FIT CON N_NEIGHBORS: {neighbors}----------\")\n",
        "  evaluate(knn, X_train, X_test, y_train, y_test)"
      ],
      "metadata": {
        "colab": {
          "base_uri": "https://localhost:8080/"
        },
        "id": "_CVvC1PlPH06",
        "outputId": "4af07499-7d64-4aea-c067-8d08f17bcb71"
      },
      "execution_count": null,
      "outputs": [
        {
          "output_type": "stream",
          "name": "stdout",
          "text": [
            "-----------FIT CON N_NEIGHBORS: 3----------\n",
            "TRAIN REPORT\n",
            "              precision    recall  f1-score   support\n",
            "\n",
            "           0       0.98      0.98      0.98    216254\n",
            "           1       0.76      0.83      0.79     20632\n",
            "\n",
            "    accuracy                           0.96    236886\n",
            "   macro avg       0.87      0.90      0.89    236886\n",
            "weighted avg       0.96      0.96      0.96    236886\n",
            "\n",
            "TEST REPORT\n",
            "              precision    recall  f1-score   support\n",
            "\n",
            "           0       0.97      0.97      0.97     92436\n",
            "           1       0.68      0.72      0.70      9087\n",
            "\n",
            "    accuracy                           0.94    101523\n",
            "   macro avg       0.82      0.84      0.83    101523\n",
            "weighted avg       0.95      0.94      0.94    101523\n",
            "\n",
            "-----------------------------------------------------\n",
            "-----------FIT CON N_NEIGHBORS: 4----------\n",
            "TRAIN REPORT\n",
            "              precision    recall  f1-score   support\n",
            "\n",
            "           0       0.97      0.98      0.98    216254\n",
            "           1       0.79      0.69      0.74     20632\n",
            "\n",
            "    accuracy                           0.96    236886\n",
            "   macro avg       0.88      0.84      0.86    236886\n",
            "weighted avg       0.96      0.96      0.96    236886\n",
            "\n",
            "TEST REPORT\n",
            "              precision    recall  f1-score   support\n",
            "\n",
            "           0       0.96      0.97      0.97     92436\n",
            "           1       0.67      0.56      0.61      9087\n",
            "\n",
            "    accuracy                           0.94    101523\n",
            "   macro avg       0.82      0.77      0.79    101523\n",
            "weighted avg       0.93      0.94      0.93    101523\n",
            "\n",
            "-----------------------------------------------------\n",
            "-----------FIT CON N_NEIGHBORS: 5----------\n",
            "TRAIN REPORT\n",
            "              precision    recall  f1-score   support\n",
            "\n",
            "           0       0.98      0.97      0.98    216254\n",
            "           1       0.74      0.82      0.78     20632\n",
            "\n",
            "    accuracy                           0.96    236886\n",
            "   macro avg       0.86      0.90      0.88    236886\n",
            "weighted avg       0.96      0.96      0.96    236886\n",
            "\n",
            "TEST REPORT\n",
            "              precision    recall  f1-score   support\n",
            "\n",
            "           0       0.97      0.96      0.97     92436\n",
            "           1       0.66      0.72      0.69      9087\n",
            "\n",
            "    accuracy                           0.94    101523\n",
            "   macro avg       0.82      0.84      0.83    101523\n",
            "weighted avg       0.94      0.94      0.94    101523\n",
            "\n",
            "-----------------------------------------------------\n",
            "-----------FIT CON N_NEIGHBORS: 6----------\n",
            "TRAIN REPORT\n",
            "              precision    recall  f1-score   support\n",
            "\n",
            "           0       0.97      0.98      0.98    216254\n",
            "           1       0.76      0.70      0.73     20632\n",
            "\n",
            "    accuracy                           0.96    236886\n",
            "   macro avg       0.87      0.84      0.85    236886\n",
            "weighted avg       0.95      0.96      0.95    236886\n",
            "\n",
            "TEST REPORT\n",
            "              precision    recall  f1-score   support\n",
            "\n",
            "           0       0.96      0.97      0.97     92436\n",
            "           1       0.66      0.59      0.62      9087\n",
            "\n",
            "    accuracy                           0.94    101523\n",
            "   macro avg       0.81      0.78      0.79    101523\n",
            "weighted avg       0.93      0.94      0.93    101523\n",
            "\n",
            "-----------------------------------------------------\n"
          ]
        }
      ]
    },
    {
      "cell_type": "markdown",
      "source": [
        "Addestramento del modello con il miglior valore di K e la \"regolarizzazione\" con la pesatura delle distanze gestito dall'iperparametro \"weights\"."
      ],
      "metadata": {
        "id": "WY-bXNq8cwqk"
      }
    },
    {
      "cell_type": "code",
      "source": [
        "knn = KNeighborsClassifier(n_neighbors=3, weights=\"distance\")\n",
        "knn.fit(X_train, y_train)\n",
        "\n",
        "evaluate(knn, X_train, X_test, y_train, y_test)"
      ],
      "metadata": {
        "colab": {
          "base_uri": "https://localhost:8080/"
        },
        "id": "vM5d4yiFQvrf",
        "outputId": "ed7305be-794a-42e2-9b91-8c432a59ba38"
      },
      "execution_count": null,
      "outputs": [
        {
          "output_type": "stream",
          "name": "stdout",
          "text": [
            "TRAIN REPORT\n",
            "              precision    recall  f1-score   support\n",
            "\n",
            "           0       0.98      0.98      0.98    216254\n",
            "           1       0.78      0.84      0.81     20632\n",
            "\n",
            "    accuracy                           0.97    236886\n",
            "   macro avg       0.88      0.91      0.90    236886\n",
            "weighted avg       0.97      0.97      0.97    236886\n",
            "\n",
            "TEST REPORT\n",
            "              precision    recall  f1-score   support\n",
            "\n",
            "           0       0.97      0.97      0.97     92436\n",
            "           1       0.69      0.72      0.71      9087\n",
            "\n",
            "    accuracy                           0.95    101523\n",
            "   macro avg       0.83      0.85      0.84    101523\n",
            "weighted avg       0.95      0.95      0.95    101523\n",
            "\n",
            "-----------------------------------------------------\n"
          ]
        }
      ]
    },
    {
      "cell_type": "code",
      "source": [
        "plot_confusion_matrix(y_test, knn.predict(X_test), [\"No\", \"Yes\"])"
      ],
      "metadata": {
        "id": "PO9wCy8neavU",
        "colab": {
          "base_uri": "https://localhost:8080/",
          "height": 846
        },
        "outputId": "7570f8bd-d2e7-46a7-e2b8-fbcf81b28b9b"
      },
      "execution_count": null,
      "outputs": [
        {
          "output_type": "display_data",
          "data": {
            "text/plain": [
              "<Figure size 1400x1000 with 2 Axes>"
            ],
            "image/png": "[encoded data removed]"
          },
          "metadata": {}
        }
      ]
    },
    {
      "cell_type": "markdown",
      "source": [
        "*Support Vector Machines (SVM).*"
      ],
      "metadata": {
        "id": "2GmI4oflxwtp"
      }
    },
    {
      "cell_type": "markdown",
      "source": [
        "Il modello non dovrebbe soffrire per la presenza di outlier, ma risulta difficile da interpretare."
      ],
      "metadata": {
        "id": "Uo7hx98kBylz"
      }
    },
    {
      "cell_type": "code",
      "source": [
        "svc = SVC(kernel=\"sigmoid\")\n",
        "svc.fit(X_train, y_train)\n",
        "\n",
        "evaluate(svc, X_train, X_test, y_train, y_test)"
      ],
      "metadata": {
        "colab": {
          "base_uri": "https://localhost:8080/"
        },
        "id": "qMSP2182BmIo",
        "outputId": "49146db5-bdcc-4b96-91ba-68eeabf53a05"
      },
      "execution_count": null,
      "outputs": [
        {
          "output_type": "stream",
          "name": "stdout",
          "text": [
            "TRAIN REPORT\n",
            "              precision    recall  f1-score   support\n",
            "\n",
            "           0       0.92      0.92      0.92    216206\n",
            "           1       0.19      0.19      0.19     20680\n",
            "\n",
            "    accuracy                           0.86    236886\n",
            "   macro avg       0.56      0.56      0.56    236886\n",
            "weighted avg       0.86      0.86      0.86    236886\n",
            "\n",
            "TEST REPORT\n",
            "              precision    recall  f1-score   support\n",
            "\n",
            "           0       0.92      0.92      0.92     92484\n",
            "           1       0.19      0.19      0.19      9039\n",
            "\n",
            "    accuracy                           0.86    101523\n",
            "   macro avg       0.56      0.56      0.56    101523\n",
            "weighted avg       0.86      0.86      0.86    101523\n",
            "\n",
            "-----------------------------------------------------\n"
          ]
        }
      ]
    },
    {
      "cell_type": "markdown",
      "source": [
        "Addestramento del modello con differente kernel."
      ],
      "metadata": {
        "id": "Df49R6sJThxa"
      }
    },
    {
      "cell_type": "code",
      "source": [
        "svc = SVC(kernel=\"rbf\")\n",
        "svc.fit(X_train, y_train)\n",
        "\n",
        "evaluate(svc, X_train, X_test, y_train, y_test)"
      ],
      "metadata": {
        "id": "eIwC_Kikeash",
        "colab": {
          "base_uri": "https://localhost:8080/"
        },
        "outputId": "5cb14f70-dd38-4f27-88af-91b8148a7e21"
      },
      "execution_count": null,
      "outputs": [
        {
          "output_type": "stream",
          "name": "stdout",
          "text": [
            "TRAIN REPORT\n",
            "              precision    recall  f1-score   support\n",
            "\n",
            "           0       0.93      0.99      0.96    216152\n",
            "           1       0.64      0.19      0.29     20734\n",
            "\n",
            "    accuracy                           0.92    236886\n",
            "   macro avg       0.78      0.59      0.62    236886\n",
            "weighted avg       0.90      0.92      0.90    236886\n",
            "\n",
            "TEST REPORT\n",
            "              precision    recall  f1-score   support\n",
            "\n",
            "           0       0.93      0.99      0.96     92538\n",
            "           1       0.61      0.18      0.28      8985\n",
            "\n",
            "    accuracy                           0.92    101523\n",
            "   macro avg       0.77      0.59      0.62    101523\n",
            "weighted avg       0.90      0.92      0.90    101523\n",
            "\n",
            "-----------------------------------------------------\n"
          ]
        }
      ]
    },
    {
      "cell_type": "markdown",
      "source": [
        "Conclusione:\n",
        "\n",
        "Considerando che l'obbiettivo dell'addestramento del modello di classificazione consiste nel realizzare un modello in grado di stimare l'affidabilità creditizia di un clienti, al fine di di aiutare il team dedicato a comprendere se accettare o meno la richiesta per il rilascio della carta di credito.\n",
        "\n",
        "Considerando i modelli addestrati fino ad ora senza ulteriori ottimizzazioni, il modello migliore è il modello K-Nearest Neighbors (KNN) perché nonstante la presenza di un \"leggero\" overfitting per la classe sottocampionata (target=1), è il modello che mantiene le metriche più equilibrate.\n",
        "\n",
        "TRAIN REPORT\n",
        "              precision    recall  f1-score   support\n",
        "\n",
        "           0       0.98      0.98      0.98    216173\n",
        "           1       0.78      0.84      0.81     20713\n",
        "\n",
        "    accuracy                           0.97    236886\n",
        "\n",
        "TEST REPORT\n",
        "              precision    recall  f1-score   support\n",
        "\n",
        "           0       0.97      0.97      0.97     92517\n",
        "           1       0.69      0.73      0.71      9006\n",
        "\n",
        "    accuracy                           0.95    101523"
      ],
      "metadata": {
        "id": "lrYeI0t0U0T-"
      }
    }
  ]
}
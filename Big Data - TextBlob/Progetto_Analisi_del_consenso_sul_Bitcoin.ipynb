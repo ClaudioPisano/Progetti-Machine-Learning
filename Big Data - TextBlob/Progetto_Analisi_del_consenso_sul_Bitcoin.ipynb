{
  "nbformat": 4,
  "nbformat_minor": 0,
  "metadata": {
    "colab": {
      "provenance": []
    },
    "kernelspec": {
      "name": "python3",
      "display_name": "Python 3"
    },
    "language_info": {
      "name": "python"
    }
  },
  "cells": [
    {
      "cell_type": "markdown",
      "source": [
        "# Codice per rendere visibile lo svolgimento del progetto nell'evenualità che il link di databricks non funzionasse."
      ],
      "metadata": {
        "id": "_UXpYcvfryGm"
      }
    },
    {
      "cell_type": "code",
      "execution_count": null,
      "metadata": {
        "id": "vX01dr3krNcZ"
      },
      "outputs": [],
      "source": [
        "!wget https://proai-datasets.s3.eu-west-3.amazonaws.com/bitcoin_tweets.csv"
      ]
    },
    {
      "cell_type": "code",
      "source": [
        "import pandas as pd\n",
        "from pyspark.sql import SparkSession\n",
        "from pyspark.sql.functions import udf\n",
        "from pyspark.sql.types import StringType, DoubleType\n",
        "from langdetect import detect\n",
        "from textblob import TextBlob\n",
        "from pyspark.sql.functions import sum\n",
        "import numpy as np\n",
        "import matplotlib.pyplot as plt\n",
        "from pyspark.sql.functions import avg\n",
        "\n",
        "plt.style.use(\"seaborn-v0_8-darkgrid\")\n",
        "plt.rcParams[\"figure.figsize\"] = [10, 6]\n",
        "\n",
        "\n",
        "def detect_language(text):\n",
        "    \"\"\"\n",
        "    Dato un testo restituisce la lingua d'appartenenza\n",
        "    text = str\n",
        "    \"\"\"\n",
        "    try:\n",
        "        return detect(text)\n",
        "    except:\n",
        "        return None\n",
        "\n",
        "\n",
        "def sentiment_analysis(text):\n",
        "    \"\"\"\n",
        "    Dato un testo restituisce il sentiment, compreso tra -1 e 1\n",
        "    text = str\n",
        "    \"\"\"\n",
        "    try:\n",
        "        sentiment = TextBlob(text).sentiment\n",
        "        return float(sentiment.polarity)\n",
        "    except:\n",
        "        return None"
      ],
      "metadata": {
        "id": "t3URPDoorWe4"
      },
      "execution_count": null,
      "outputs": []
    },
    {
      "cell_type": "code",
      "source": [
        "import pandas as pd\n",
        "dataset = pd.read_csv(\"/databricks/driver/bitcoin_tweets.csv\", usecols=[4,5,6,7,8], delimiter=\",\")\n",
        "\n",
        "spark_df = spark.createDataFrame(dataset)\n",
        "# spark_df.write.saveAsTable(\"bitcoin_tweets\")"
      ],
      "metadata": {
        "id": "UiU6aqjIrcg_"
      },
      "execution_count": null,
      "outputs": []
    },
    {
      "cell_type": "code",
      "source": [
        "display(spark_df)"
      ],
      "metadata": {
        "id": "eOWO4NRqrmWV"
      },
      "execution_count": null,
      "outputs": []
    },
    {
      "cell_type": "markdown",
      "source": [
        "Considerando la grande dimensionalità del dataset e i tempi computazionali necessari, viene selezionato un campione composto da delle osservazioni estratte casualmente per poter comporre una ridotta percentuale del medesimo dataset. Tutte le manipolazioni del dato rimangono comunque valide per manipolare il dataset originale."
      ],
      "metadata": {
        "id": "Y5swp0QUrp7S"
      }
    },
    {
      "cell_type": "code",
      "source": [
        "spark_df.count()"
      ],
      "metadata": {
        "id": "L12In0C0rrG9"
      },
      "execution_count": null,
      "outputs": []
    },
    {
      "cell_type": "code",
      "source": [
        "dataset_sample = spark_df.sample(False, 0.005)\n",
        "dataset_sample.count()"
      ],
      "metadata": {
        "id": "LidfIGL7rtT3"
      },
      "execution_count": null,
      "outputs": []
    },
    {
      "cell_type": "markdown",
      "source": [
        "Per l'analisi del sentimento sul tema del BTC verrà usato un modello di machine learning pre-addestrato (TextBlob), lo stesso è ottimizzato per la lingua inglese. Per questo caso è utile selezionare i record che comprendono il campo \"text\" (il tweet) in lingua inglese. Lo scopo viene raggiunto con l'utilizzo di UDF per estendere le funzionalità base e accedere a delle funzioni personalizzate. In questo caso dopo aver registrato l'UDF con la funzione che utilizza la libreria langdetect per il rilevamento della lingua, viene creato un campo che viene valorizzato con la lingua per ogni testo, quindi per ogni record."
      ],
      "metadata": {
        "id": "9RuWnZPUrwWt"
      }
    },
    {
      "cell_type": "code",
      "source": [
        "\n",
        "language_udf = udf(detect_language, StringType())\n",
        "dataset_sample_language = dataset_sample.withColumn(\"language\", language_udf(dataset_sample[\"text\"]))\n",
        "\n",
        "dataset_sample_language.show()"
      ],
      "metadata": {
        "id": "DMkX3G73ru3w"
      },
      "execution_count": null,
      "outputs": []
    },
    {
      "cell_type": "markdown",
      "source": [
        "Selezione dei record in lingua inglese con l'utilizzo di una mascehra booleana."
      ],
      "metadata": {
        "id": "LmRLK7u7sX4A"
      }
    },
    {
      "cell_type": "code",
      "source": [
        "dataset_en = dataset_sample_language[dataset_sample_language[\"language\"] == \"en\"]"
      ],
      "metadata": {
        "id": "8FUiyeUZsWL-"
      },
      "execution_count": null,
      "outputs": []
    },
    {
      "cell_type": "markdown",
      "source": [
        "Registrazione dell'UDF con la funzione che prendendo come argomento il testo del campo \"text\" restituirà il sentiment compreso tra i valori -1 e 1, dove -1 equivale per un sentiment totalmente negativo, 0 un sentiment neutrale e 1 per un sentiment totalmente positivo. La funzione che permette ciò utilizza il modello pre-addestrato TextBlob. Infine viene creato un campo con tale valore."
      ],
      "metadata": {
        "id": "I9W0QR6YscEV"
      }
    },
    {
      "cell_type": "code",
      "source": [
        "sentiment_udf = udf(sentiment_analysis, DoubleType())\n",
        "sentiment_sample_language = dataset_en.withColumn(\"sentiment\", sentiment_udf(dataset_en[\"text\"]))"
      ],
      "metadata": {
        "id": "FvkqCChksd8m"
      },
      "execution_count": null,
      "outputs": []
    },
    {
      "cell_type": "markdown",
      "source": [
        "Quesiti:\n",
        "\n",
        "i tweet negativi hanno avuto più likes rispetto a quelli positivi?\n",
        "\n",
        "i tweet negativi hanno avuto più interazioni (risposte) rispetto a quelli positivi?"
      ],
      "metadata": {
        "id": "-H7sxy_asfwP"
      }
    },
    {
      "cell_type": "markdown",
      "source": [
        "Utilizzo di una mascehra booleana per filtare solamente i valori positivi e negativi del dataset. Vengno impostati dei valori di soglia per i tweet positivi e negativi, rispettivamente 0.25 e -0.25."
      ],
      "metadata": {
        "id": "PmWqAaMSsgju"
      }
    },
    {
      "cell_type": "code",
      "source": [
        "sentiment_positive = sentiment_sample_language[sentiment_sample_language[\"sentiment\"] >= 0.25]\n",
        "sentiment_negative = sentiment_sample_language[sentiment_sample_language[\"sentiment\"] <= -0.25]"
      ],
      "metadata": {
        "id": "R5Fg-POZsjsv"
      },
      "execution_count": null,
      "outputs": []
    },
    {
      "cell_type": "markdown",
      "source": [
        "Calcolo della somma dei valori nel campo \"likes\" e del campo \"replies\" che sono l'oggetto del quesito."
      ],
      "metadata": {
        "id": "Rh1n0L-0slUA"
      }
    },
    {
      "cell_type": "code",
      "source": [
        "positive_tweet = sentiment_positive.agg(sum(\"likes\").alias(\"total_likes\")).collect()[0][\"total_likes\"]\n",
        "negative_tweet = sentiment_negative.agg(sum(\"likes\").alias(\"total_likes\")).collect()[0][\"total_likes\"]\n",
        "\n",
        "positive_replies = sentiment_positive.agg(sum(\"replies\").alias(\"total_replies\")).collect()[0][\"total_replies\"]\n",
        "negative_replies = sentiment_negative.agg(sum(\"replies\").alias(\"total_replies\")).collect()[0][\"total_replies\"]"
      ],
      "metadata": {
        "id": "XX4yVCw1sm_F"
      },
      "execution_count": null,
      "outputs": []
    },
    {
      "cell_type": "markdown",
      "source": [
        "Visualizzazione dei risultati in un grafico a barre raggruppate, divisi per risposte e likes dei tweets sono visualizzate le numerosità per ogni classe, sia positiva che negativa."
      ],
      "metadata": {
        "id": "NEFIn5y3sovZ"
      }
    },
    {
      "cell_type": "code",
      "source": [
        "categories = (\"Risposte\", \"Likes\")\n",
        "sentiment = {\n",
        "    \"Tweets positivi\": (positive_replies, positive_tweet),\n",
        "    \"Tweets negativi\": (negative_replies, negative_tweet),\n",
        "}\n",
        "\n",
        "x = np.arange(len(categories))\n",
        "width = 0.30\n",
        "multiplier = 0\n",
        "\n",
        "fig, ax = plt.subplots(layout=\"constrained\")\n",
        "\n",
        "for attribute, measurement in sentiment.items():\n",
        "    offset = width * multiplier\n",
        "    rects = ax.bar(x + offset, measurement, width, label=attribute)\n",
        "    ax.bar_label(rects, padding=3)\n",
        "    multiplier += 1\n",
        "\n",
        "\n",
        "ax.set_ylabel(\"Numerosità\")\n",
        "ax.set_title(\"Apprezzamento BTC basato sui Tweet\")\n",
        "ax.set_xticks(x + width /2, categories)\n",
        "ax.legend(loc=\"upper left\", ncols=3)\n",
        "ax.set_ylim(0, max(positive_replies, positive_tweet, negative_replies, negative_tweet)+1000)\n",
        "\n",
        "plt.show()"
      ],
      "metadata": {
        "id": "t8wsIJ0xsquG"
      },
      "execution_count": null,
      "outputs": []
    },
    {
      "cell_type": "markdown",
      "source": [
        "Quesito:\n",
        "\n",
        "il tuo compito è quello di eseguire un'analisi del sentiment e creare un grafico che mostri come questo è variato giorno per giorno."
      ],
      "metadata": {
        "id": "YmRupvW9synL"
      }
    },
    {
      "cell_type": "markdown",
      "source": [
        "La rappresentazione sul grafico del periodo totale disponibile dai dati risutla essere confuso e poco comprensibile per via delle troppe informazioni nel poco spazio rappresentabile, quindi viene selezionato arbitrariamente un periodo che consente una rappresentazione comprensibile, in questo caso ho scelto il mese di Gennaio 2018.\n",
        "\n",
        "Il dataset viene inizialmente raggruppato per il campo \"timestamp\" contenente le date e viene calcolata la media dei valori del campo \"sentiment\" cosi raggruppati per ottenere la media giornaliera.\n",
        "\n",
        "Dopo aver converito i valori dell campo \"timestamp\" nel formato data viene utilizzata una maschera booleana per selezionare solamente i record nella fascia d'interesse. Infine, il dataset viene ordinato."
      ],
      "metadata": {
        "id": "eK_kry2Qs0sU"
      }
    },
    {
      "cell_type": "code",
      "source": [
        "dataset_groupby = sentiment_sample_language.groupBy(\"timestamp\").agg(\n",
        "    avg(\"sentiment\").alias(\"avg_sentiment\")\n",
        ")\n",
        "\n",
        "dataset_pandas = dataset_groupby.toPandas()\n",
        "dataset_pandas[\"date\"] = pd.to_datetime(dataset_pandas[\"timestamp\"], format=\"%Y-%m-%d\")\n",
        "\n",
        "dataset_pandas_2018 = dataset_pandas[(dataset_pandas[\"date\"] >= \"2018-01-01\") & (dataset_pandas[\"date\"] <= \"2018-01-31\")]\n",
        "\n",
        "dataset_pandas_2018.sort_values(\"date\", inplace=True)\n",
        "dataset_pandas_2018.set_index(\"date\", inplace=True)"
      ],
      "metadata": {
        "id": "UtU4QqSwsy_t"
      },
      "execution_count": null,
      "outputs": []
    },
    {
      "cell_type": "markdown",
      "source": [
        "Visualizzazione di un grafico a linea con la media del sentiment che mostra l'oscillazione dell'apprezzamento sul tema del BTC da parte della comunità di Twitter nel primo mese del 2018."
      ],
      "metadata": {
        "id": "k6Sl2TYbs4Wj"
      }
    },
    {
      "cell_type": "code",
      "source": [
        "plt.plot(dataset_pandas_2018.index, dataset_pandas_2018[\"avg_sentiment\"], marker=\"o\", label=\"Media Sentiment\")\n",
        "plt.ylabel(\"Sentiment\")\n",
        "plt.title(\"Sentiment BTC di Gennaio 2018\")\n",
        "plt.legend()\n",
        "plt.xticks(rotation=45)\n",
        "plt.tight_layout()\n",
        "plt.show()"
      ],
      "metadata": {
        "id": "lKXUn6IDs5sj"
      },
      "execution_count": null,
      "outputs": []
    }
  ]
}